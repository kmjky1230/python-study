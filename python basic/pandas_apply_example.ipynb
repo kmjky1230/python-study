{
 "cells": [
  {
   "cell_type": "code",
   "execution_count": 4,
   "id": "ecd4e722",
   "metadata": {},
   "outputs": [],
   "source": [
    "import numpy as np\n",
    "import pandas as pd\n",
    "import math"
   ]
  },
  {
   "cell_type": "markdown",
   "id": "918f0931",
   "metadata": {},
   "source": [
    "python의 list에서는 map() 함수를 적용하는 방법과 유사하게 pandas에서 DataFrame에서는 apply()를 map() 대신에 적용할 수 있습니다.\n",
    "<br><br>\n",
    "apply() 함수는 DataFrame의 칼럼에 복잡한 연산을 vectorizing 할 수 있게 해주는 함수로 매우 많이 활용되는 함수입니다.\n",
    "<br><br>\n",
    "apply() 함수는 간단한 경우 lambda() 함수를 적용할 수 있으며, 복잡한 경우 사용자 정의 함수를 적용할 수도 있습니다."
   ]
  },
  {
   "cell_type": "markdown",
   "id": "5977a335",
   "metadata": {},
   "source": [
    "### lambda() 함수와 사용하기\n",
    "lambda 함수는 사용자정의 함수를 문법에 맞추어 작성하는 것보다 훨씬 간단하게 해결할 수 있도록 해주는 함수입니다. lambda 함수의 기본 구조는 다음과 같습니다."
   ]
  },
  {
   "cell_type": "code",
   "execution_count": 5,
   "id": "3af1dcc9",
   "metadata": {},
   "outputs": [
    {
     "data": {
      "text/plain": [
       "11"
      ]
     },
     "execution_count": 5,
     "metadata": {},
     "output_type": "execute_result"
    }
   ],
   "source": [
    "f = lambda x, y : x + y\n",
    "f(5, 6)"
   ]
  },
  {
   "cell_type": "markdown",
   "id": "75fe9714",
   "metadata": {},
   "source": [
    "다음은 lambda() 함수와 apply() 함수를 연결하여 사용한 예시입니다."
   ]
  },
  {
   "cell_type": "code",
   "execution_count": 6,
   "id": "0fe3a464",
   "metadata": {},
   "outputs": [],
   "source": [
    "#DataFrame명.apply(lambda x : x['칼럼명']들의 조건식 \n",
    "#                               if x['칼럼명']들의 조건식 \n",
    "#                               else (x['칼럼명']들의 조건식 또는 값), axis = 1)"
   ]
  },
  {
   "cell_type": "code",
   "execution_count": 8,
   "id": "d7762f71",
   "metadata": {},
   "outputs": [
    {
     "data": {
      "text/html": [
       "<div>\n",
       "<style scoped>\n",
       "    .dataframe tbody tr th:only-of-type {\n",
       "        vertical-align: middle;\n",
       "    }\n",
       "\n",
       "    .dataframe tbody tr th {\n",
       "        vertical-align: top;\n",
       "    }\n",
       "\n",
       "    .dataframe thead th {\n",
       "        text-align: right;\n",
       "    }\n",
       "</style>\n",
       "<table border=\"1\" class=\"dataframe\">\n",
       "  <thead>\n",
       "    <tr style=\"text-align: right;\">\n",
       "      <th></th>\n",
       "      <th>국어</th>\n",
       "      <th>수학</th>\n",
       "    </tr>\n",
       "  </thead>\n",
       "  <tbody>\n",
       "    <tr>\n",
       "      <th>김철수</th>\n",
       "      <td>100</td>\n",
       "      <td>39</td>\n",
       "    </tr>\n",
       "    <tr>\n",
       "      <th>김민정</th>\n",
       "      <td>45</td>\n",
       "      <td>90</td>\n",
       "    </tr>\n",
       "    <tr>\n",
       "      <th>강동훈</th>\n",
       "      <td>33</td>\n",
       "      <td>49</td>\n",
       "    </tr>\n",
       "  </tbody>\n",
       "</table>\n",
       "</div>"
      ],
      "text/plain": [
       "      국어  수학\n",
       "김철수  100  39\n",
       "김민정   45  90\n",
       "강동훈   33  49"
      ]
     },
     "execution_count": 8,
     "metadata": {},
     "output_type": "execute_result"
    }
   ],
   "source": [
    "df = pd.DataFrame({'국어' : [100, 45, 33],\n",
    "                  '수학' : [39, 90, 49]},\n",
    "                 index = ['김철수', '김민정', '강동훈'])\n",
    "df"
   ]
  },
  {
   "cell_type": "markdown",
   "id": "f580fb27",
   "metadata": {},
   "source": [
    "행은 사라지고 열 단위로 집계하고 싶은 경우 axis = 0으로 지정합니다.<br>\n",
    "열은 사라지고 행 단위로 집계하고 싶은 경우 axis = 1으로 지정합니다."
   ]
  },
  {
   "cell_type": "code",
   "execution_count": 9,
   "id": "40039665",
   "metadata": {},
   "outputs": [
    {
     "data": {
      "text/html": [
       "<div>\n",
       "<style scoped>\n",
       "    .dataframe tbody tr th:only-of-type {\n",
       "        vertical-align: middle;\n",
       "    }\n",
       "\n",
       "    .dataframe tbody tr th {\n",
       "        vertical-align: top;\n",
       "    }\n",
       "\n",
       "    .dataframe thead th {\n",
       "        text-align: right;\n",
       "    }\n",
       "</style>\n",
       "<table border=\"1\" class=\"dataframe\">\n",
       "  <thead>\n",
       "    <tr style=\"text-align: right;\">\n",
       "      <th></th>\n",
       "      <th>국어</th>\n",
       "      <th>수학</th>\n",
       "    </tr>\n",
       "  </thead>\n",
       "  <tbody>\n",
       "    <tr>\n",
       "      <th>김철수</th>\n",
       "      <td>10.000000</td>\n",
       "      <td>6.244998</td>\n",
       "    </tr>\n",
       "    <tr>\n",
       "      <th>김민정</th>\n",
       "      <td>6.708204</td>\n",
       "      <td>9.486833</td>\n",
       "    </tr>\n",
       "    <tr>\n",
       "      <th>강동훈</th>\n",
       "      <td>5.744563</td>\n",
       "      <td>7.000000</td>\n",
       "    </tr>\n",
       "  </tbody>\n",
       "</table>\n",
       "</div>"
      ],
      "text/plain": [
       "            국어        수학\n",
       "김철수  10.000000  6.244998\n",
       "김민정   6.708204  9.486833\n",
       "강동훈   5.744563  7.000000"
      ]
     },
     "execution_count": 9,
     "metadata": {},
     "output_type": "execute_result"
    }
   ],
   "source": [
    "# apply 함수를 적용하여 열 단위로 집계합니다. \n",
    "df.apply(np.sqrt, axis=0)"
   ]
  },
  {
   "cell_type": "code",
   "execution_count": 10,
   "id": "f431e85f",
   "metadata": {},
   "outputs": [
    {
     "data": {
      "text/html": [
       "<div>\n",
       "<style scoped>\n",
       "    .dataframe tbody tr th:only-of-type {\n",
       "        vertical-align: middle;\n",
       "    }\n",
       "\n",
       "    .dataframe tbody tr th {\n",
       "        vertical-align: top;\n",
       "    }\n",
       "\n",
       "    .dataframe thead th {\n",
       "        text-align: right;\n",
       "    }\n",
       "</style>\n",
       "<table border=\"1\" class=\"dataframe\">\n",
       "  <thead>\n",
       "    <tr style=\"text-align: right;\">\n",
       "      <th></th>\n",
       "      <th>국어</th>\n",
       "      <th>수학</th>\n",
       "    </tr>\n",
       "  </thead>\n",
       "  <tbody>\n",
       "    <tr>\n",
       "      <th>김철수</th>\n",
       "      <td>10.000000</td>\n",
       "      <td>6.244998</td>\n",
       "    </tr>\n",
       "    <tr>\n",
       "      <th>김민정</th>\n",
       "      <td>6.708204</td>\n",
       "      <td>9.486833</td>\n",
       "    </tr>\n",
       "    <tr>\n",
       "      <th>강동훈</th>\n",
       "      <td>5.744563</td>\n",
       "      <td>7.000000</td>\n",
       "    </tr>\n",
       "  </tbody>\n",
       "</table>\n",
       "</div>"
      ],
      "text/plain": [
       "            국어        수학\n",
       "김철수  10.000000  6.244998\n",
       "김민정   6.708204  9.486833\n",
       "강동훈   5.744563  7.000000"
      ]
     },
     "execution_count": 10,
     "metadata": {},
     "output_type": "execute_result"
    }
   ],
   "source": [
    "df.apply(np.sqrt, axis=1)"
   ]
  },
  {
   "cell_type": "code",
   "execution_count": 13,
   "id": "419e2cbf",
   "metadata": {},
   "outputs": [],
   "source": [
    "# 합계 column은 국어가 수학보다 크거나 같은 경우 국어와 수학의 차, 그렇지 않은 경우 0의 값을 가집니다.\n",
    "df['합계'] = df.apply(lambda x : x['국어'] - x['수학']\n",
    "                   if (x['국어'] >= x['수학'])\n",
    "                   else 0, axis=1)"
   ]
  },
  {
   "cell_type": "code",
   "execution_count": 16,
   "id": "f6104cf1",
   "metadata": {},
   "outputs": [
    {
     "data": {
      "text/html": [
       "<div>\n",
       "<style scoped>\n",
       "    .dataframe tbody tr th:only-of-type {\n",
       "        vertical-align: middle;\n",
       "    }\n",
       "\n",
       "    .dataframe tbody tr th {\n",
       "        vertical-align: top;\n",
       "    }\n",
       "\n",
       "    .dataframe thead th {\n",
       "        text-align: right;\n",
       "    }\n",
       "</style>\n",
       "<table border=\"1\" class=\"dataframe\">\n",
       "  <thead>\n",
       "    <tr style=\"text-align: right;\">\n",
       "      <th></th>\n",
       "      <th>국어</th>\n",
       "      <th>수학</th>\n",
       "      <th>합계</th>\n",
       "    </tr>\n",
       "  </thead>\n",
       "  <tbody>\n",
       "    <tr>\n",
       "      <th>김철수</th>\n",
       "      <td>100</td>\n",
       "      <td>39</td>\n",
       "      <td>61</td>\n",
       "    </tr>\n",
       "    <tr>\n",
       "      <th>김민정</th>\n",
       "      <td>45</td>\n",
       "      <td>90</td>\n",
       "      <td>0</td>\n",
       "    </tr>\n",
       "    <tr>\n",
       "      <th>강동훈</th>\n",
       "      <td>33</td>\n",
       "      <td>49</td>\n",
       "      <td>0</td>\n",
       "    </tr>\n",
       "  </tbody>\n",
       "</table>\n",
       "</div>"
      ],
      "text/plain": [
       "      국어  수학  합계\n",
       "김철수  100  39  61\n",
       "김민정   45  90   0\n",
       "강동훈   33  49   0"
      ]
     },
     "execution_count": 16,
     "metadata": {},
     "output_type": "execute_result"
    }
   ],
   "source": [
    "# head 명령어를 사용해 DataFrame을 출력한다.\n",
    "df.head()"
   ]
  },
  {
   "cell_type": "code",
   "execution_count": 20,
   "id": "72283907",
   "metadata": {},
   "outputs": [
    {
     "data": {
      "text/html": [
       "<div>\n",
       "<style scoped>\n",
       "    .dataframe tbody tr th:only-of-type {\n",
       "        vertical-align: middle;\n",
       "    }\n",
       "\n",
       "    .dataframe tbody tr th {\n",
       "        vertical-align: top;\n",
       "    }\n",
       "\n",
       "    .dataframe thead th {\n",
       "        text-align: right;\n",
       "    }\n",
       "</style>\n",
       "<table border=\"1\" class=\"dataframe\">\n",
       "  <thead>\n",
       "    <tr style=\"text-align: right;\">\n",
       "      <th></th>\n",
       "      <th>국어</th>\n",
       "      <th>수학</th>\n",
       "      <th>합계</th>\n",
       "      <th>날짜</th>\n",
       "    </tr>\n",
       "  </thead>\n",
       "  <tbody>\n",
       "    <tr>\n",
       "      <th>김철수</th>\n",
       "      <td>100</td>\n",
       "      <td>39</td>\n",
       "      <td>61</td>\n",
       "      <td>2021-09-24</td>\n",
       "    </tr>\n",
       "    <tr>\n",
       "      <th>김민정</th>\n",
       "      <td>45</td>\n",
       "      <td>90</td>\n",
       "      <td>0</td>\n",
       "      <td>2021-10-11</td>\n",
       "    </tr>\n",
       "    <tr>\n",
       "      <th>강동훈</th>\n",
       "      <td>33</td>\n",
       "      <td>49</td>\n",
       "      <td>0</td>\n",
       "      <td>2021-02-11</td>\n",
       "    </tr>\n",
       "  </tbody>\n",
       "</table>\n",
       "</div>"
      ],
      "text/plain": [
       "      국어  수학  합계          날짜\n",
       "김철수  100  39  61  2021-09-24\n",
       "김민정   45  90   0  2021-10-11\n",
       "강동훈   33  49   0  2021-02-11"
      ]
     },
     "execution_count": 20,
     "metadata": {},
     "output_type": "execute_result"
    }
   ],
   "source": [
    "df['날짜'] = ['2021-09-24', '2021-10-11', '2021-02-11']\n",
    "df.head()"
   ]
  },
  {
   "cell_type": "code",
   "execution_count": 22,
   "id": "1c5988d3",
   "metadata": {},
   "outputs": [
    {
     "data": {
      "text/html": [
       "<div>\n",
       "<style scoped>\n",
       "    .dataframe tbody tr th:only-of-type {\n",
       "        vertical-align: middle;\n",
       "    }\n",
       "\n",
       "    .dataframe tbody tr th {\n",
       "        vertical-align: top;\n",
       "    }\n",
       "\n",
       "    .dataframe thead th {\n",
       "        text-align: right;\n",
       "    }\n",
       "</style>\n",
       "<table border=\"1\" class=\"dataframe\">\n",
       "  <thead>\n",
       "    <tr style=\"text-align: right;\">\n",
       "      <th></th>\n",
       "      <th>국어</th>\n",
       "      <th>수학</th>\n",
       "      <th>합계</th>\n",
       "      <th>날짜</th>\n",
       "      <th>날짜1</th>\n",
       "      <th>요일</th>\n",
       "    </tr>\n",
       "  </thead>\n",
       "  <tbody>\n",
       "    <tr>\n",
       "      <th>김철수</th>\n",
       "      <td>100</td>\n",
       "      <td>39</td>\n",
       "      <td>61</td>\n",
       "      <td>2021-09-24</td>\n",
       "      <td>2021-09-24</td>\n",
       "      <td>4</td>\n",
       "    </tr>\n",
       "    <tr>\n",
       "      <th>김민정</th>\n",
       "      <td>45</td>\n",
       "      <td>90</td>\n",
       "      <td>0</td>\n",
       "      <td>2021-10-11</td>\n",
       "      <td>2021-10-11</td>\n",
       "      <td>0</td>\n",
       "    </tr>\n",
       "    <tr>\n",
       "      <th>강동훈</th>\n",
       "      <td>33</td>\n",
       "      <td>49</td>\n",
       "      <td>0</td>\n",
       "      <td>2021-02-11</td>\n",
       "      <td>2021-02-11</td>\n",
       "      <td>3</td>\n",
       "    </tr>\n",
       "  </tbody>\n",
       "</table>\n",
       "</div>"
      ],
      "text/plain": [
       "      국어  수학  합계          날짜        날짜1  요일\n",
       "김철수  100  39  61  2021-09-24 2021-09-24   4\n",
       "김민정   45  90   0  2021-10-11 2021-10-11   0\n",
       "강동훈   33  49   0  2021-02-11 2021-02-11   3"
      ]
     },
     "execution_count": 22,
     "metadata": {},
     "output_type": "execute_result"
    }
   ],
   "source": [
    "# DataTime으로 datatype을 변경\n",
    "df['날짜1'] = pd.to_datetime(df['날짜'], format='%Y-%m-%d')\n",
    "df['요일'] = df['날짜1'].dt.dayofweek\n",
    "df.head()"
   ]
  },
  {
   "cell_type": "code",
   "execution_count": 23,
   "id": "be8fb7f0",
   "metadata": {},
   "outputs": [],
   "source": [
    "def 요일(x):\n",
    "    if x == 0:\n",
    "        return '월'\n",
    "    elif x == 1:\n",
    "        return '화'\n",
    "    elif x == 2:\n",
    "        return '수'\n",
    "    elif x == 3:\n",
    "        return '목'\n",
    "    elif x == 4:\n",
    "        return '금'\n",
    "    elif x == 5:\n",
    "        return '토'\n",
    "    else:\n",
    "        return '일'"
   ]
  },
  {
   "cell_type": "code",
   "execution_count": 24,
   "id": "c48b8d21",
   "metadata": {},
   "outputs": [
    {
     "data": {
      "text/plain": [
       "김철수    금\n",
       "김민정    월\n",
       "강동훈    목\n",
       "Name: 요일, dtype: object"
      ]
     },
     "execution_count": 24,
     "metadata": {},
     "output_type": "execute_result"
    }
   ],
   "source": [
    "df['요일'].apply(요일)"
   ]
  },
  {
   "cell_type": "markdown",
   "id": "fce77fa3",
   "metadata": {},
   "source": [
    "위와 같이 사용자 정의 함수를 apply의 인자로 넘겨주어 모든 dataframe의 해당 column의 element에 대해서 사용자 정의 함수를 적용시킨 후의 값으로 변경이 가능합니다."
   ]
  },
  {
   "cell_type": "markdown",
   "id": "7fa5b63a",
   "metadata": {},
   "source": [
    "만약 '요일' 함수를 다음과 같이 정의한 경우에는 호출 방식을 가장 아래와 같이 바꿔야 합니다.\n",
    "<pre>\n",
    "def 요일(x):\n",
    "    if x['요일'] == 0:\n",
    "        return '월'\n",
    "    elif x['요일'] == 1 :\n",
    "        return '화'\n",
    "    elif x['요일'] == 2 :\n",
    "        return '수'\n",
    "    elif x['요일'] == 3 :\n",
    "        return '목'\n",
    "    elif x['요일'] == 4 :\n",
    "        return '금'\n",
    "    elif x['요일'] == 5 :\n",
    "        return '토'\n",
    "    else :\n",
    "        return '일'\n",
    "</pre>\n",
    "아래와 같이 열을 지정하지 않고 호출해도 됩니다. 다만 x['요일']에 대해서 적용함므로 axis=1 옵션이 포함되어야 합니다. (axis=1 -> 열은 없애고 행 단위로 집계)<br>\n",
    "df.apply(요일, axis=1)"
   ]
  },
  {
   "cell_type": "code",
   "execution_count": null,
   "id": "33a22edf",
   "metadata": {},
   "outputs": [],
   "source": []
  }
 ],
 "metadata": {
  "kernelspec": {
   "display_name": "Python 3",
   "language": "python",
   "name": "python3"
  },
  "language_info": {
   "codemirror_mode": {
    "name": "ipython",
    "version": 3
   },
   "file_extension": ".py",
   "mimetype": "text/x-python",
   "name": "python",
   "nbconvert_exporter": "python",
   "pygments_lexer": "ipython3",
   "version": "3.8.8"
  }
 },
 "nbformat": 4,
 "nbformat_minor": 5
}
