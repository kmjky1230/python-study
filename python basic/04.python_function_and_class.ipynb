{
 "cells": [
  {
   "cell_type": "markdown",
   "id": "eecbec73",
   "metadata": {},
   "source": [
    "# 함수와 클래스"
   ]
  },
  {
   "cell_type": "markdown",
   "id": "6d89e39e",
   "metadata": {},
   "source": [
    "## 1. function(함수)\n",
    "    수학적 정의의 함수란??\n",
    "    흔히 y = f(x)로 표현\n",
    "    \n",
    "    프로그래밍에서의 함수란??\n",
    "    자주 사용해야하는 코드를 재사용하기 위한 코드의 묶음\n",
    "    \n",
    "    데이터과학에서 함수란??\n",
    "    입력값을 받아 사용자가 원하는 처리를한 후 결과값을 되돌려 받는 코드의 묶음"
   ]
  },
  {
   "cell_type": "code",
   "execution_count": 1,
   "id": "fd5349db",
   "metadata": {},
   "outputs": [
    {
     "name": "stdout",
     "output_type": "stream",
     "text": [
      "Collecting pyttsx3\n",
      "  Downloading pyttsx3-2.90-py3-none-any.whl (39 kB)\n",
      "Requirement already satisfied: comtypes in c:\\users\\actgo\\anaconda3\\lib\\site-packages (from pyttsx3) (1.1.9)\n",
      "Requirement already satisfied: pywin32 in c:\\users\\actgo\\anaconda3\\lib\\site-packages (from pyttsx3) (227)\n",
      "Collecting pypiwin32\n",
      "  Downloading pypiwin32-223-py3-none-any.whl (1.7 kB)\n",
      "Installing collected packages: pypiwin32, pyttsx3\n",
      "Successfully installed pypiwin32-223 pyttsx3-2.90\n"
     ]
    },
    {
     "name": "stderr",
     "output_type": "stream",
     "text": [
      "WARNING: You are using pip version 21.2.3; however, version 21.2.4 is available.\n",
      "You should consider upgrading via the 'c:\\users\\actgo\\anaconda3\\python.exe -m pip install --upgrade pip' command.\n"
     ]
    }
   ],
   "source": [
    "# install pyttsx3\n",
    "!pip install pyttsx3"
   ]
  },
  {
   "cell_type": "code",
   "execution_count": 34,
   "id": "2d05cc9d",
   "metadata": {},
   "outputs": [],
   "source": [
    "import pyttsx3\n",
    "\n",
    "기계누나 = pyttsx3.init()\n",
    "기계누나.say(\"python 기본 개념 공부를 시작합니다!!\")\n",
    "\n",
    "기계누나.runAndWait()"
   ]
  },
  {
   "cell_type": "markdown",
   "id": "80b0d6fe",
   "metadata": {},
   "source": [
    "### 1-1. 함수의 구조\n",
    "    def [함수이름] ([파라미터 혹은 매개변수]): # 입력값은 선택적으로 넣을 수 있으며 함수 정의후 콜론(:)으로 마무리한다.\n",
    "        [실행코드]\n",
    "        return [반환값] # 함수에서 실행코드를 거친 결과 값 혹은 변수(반환값)을 리턴\n",
    "    \n",
    "    파라미터 혹은 매개변수 : 함수의 입력값 혹은 함수의 작동에 영향을 줄 수 있는 값(변수)\n",
    "    파라미터는 없어도 되지만, 세미콜론은 반드시 찍어줘야 한다.\n",
    "    \n",
    "#### 함수 내부에 정의된 변수\n",
    "    함수 내부에서 정의된 변수들은 함수 내부에서만 사용되는 변수로서 함수 밖에서는 호출이 불가능하다.\n",
    "    그렇기 때문에 다른 함수에서 같은 이름의 변수를 사용한다 하더라도 관계없음\n",
    "    함수 연산의 결과로서 결과값을 빼주기 위해서는 반드시 return 구문으로 값을 반환해야한다.\n",
    "    \n",
    "    함수도 기본컴퓨터의 작동 프로세스와 같이 입력, 처리, 출력의 처리를 하기 위한 구조를 가진다."
   ]
  },
  {
   "cell_type": "markdown",
   "id": "1d0da2b6",
   "metadata": {},
   "source": [
    "### 1-2. 다양한 함수의 형태"
   ]
  },
  {
   "cell_type": "code",
   "execution_count": 3,
   "id": "8f8194e9",
   "metadata": {},
   "outputs": [],
   "source": [
    "# 기본적인 함수\n",
    "def person():\n",
    "    print('강동훈입니다.')\n",
    "    \n",
    "# 입력값을 받는 함수\n",
    "def person(name='강동훈'):\n",
    "    print(f'{name}입니다.')\n",
    "    \n",
    "# 반환을 사용하는 함수\n",
    "def cal_return(x, y):\n",
    "    return x + y"
   ]
  },
  {
   "cell_type": "markdown",
   "id": "c39dd932",
   "metadata": {},
   "source": [
    "### 1-3. 함수의 호출(사용)"
   ]
  },
  {
   "cell_type": "code",
   "execution_count": 4,
   "id": "74c6a20b",
   "metadata": {},
   "outputs": [
    {
     "name": "stdout",
     "output_type": "stream",
     "text": [
      "강동훈입니다.\n"
     ]
    },
    {
     "data": {
      "text/plain": [
       "7"
      ]
     },
     "execution_count": 4,
     "metadata": {},
     "output_type": "execute_result"
    }
   ],
   "source": [
    "person()\n",
    "cal_return(4, 3)"
   ]
  },
  {
   "cell_type": "markdown",
   "id": "1065d5fc",
   "metadata": {},
   "source": [
    "### 1-4. 기존 반복 코드의 묶음"
   ]
  },
  {
   "cell_type": "code",
   "execution_count": 5,
   "id": "f870f296",
   "metadata": {},
   "outputs": [],
   "source": [
    "def bmi():\n",
    "    name = input(\"이름을 입력하세요 :\")\n",
    "    height = int(input('키를 입력하세요 :'))\n",
    "    weight = int(input('몸무게를 입력하세요 :'))\n",
    "    bmi = weight / ((height / 100) ** 2)\n",
    "    \n",
    "    print('{}님의 bmi 지수는 {}입니다.' .format(name, bmi))\n",
    "    \n",
    "    if bmi < 20:\n",
    "        print('저체중입니다.')\n",
    "    elif bmi < 24:\n",
    "        print('정상제충입니다.')\n",
    "    elif bmi < 30:\n",
    "        print('과체중입니다.')\n",
    "    else:\n",
    "        print('비만입니다.')"
   ]
  },
  {
   "cell_type": "code",
   "execution_count": 6,
   "id": "87da0896",
   "metadata": {},
   "outputs": [
    {
     "name": "stdout",
     "output_type": "stream",
     "text": [
      "이름을 입력하세요 :강동훈\n",
      "키를 입력하세요 :183\n",
      "몸무게를 입력하세요 :75\n",
      "강동훈님의 bmi 지수는 22.395413419331717입니다.\n",
      "정상제충입니다.\n"
     ]
    }
   ],
   "source": [
    "bmi()"
   ]
  },
  {
   "cell_type": "markdown",
   "id": "13bee6de",
   "metadata": {},
   "source": [
    "### 1-5. 지금까지 우리가 알게 모르게 사용해온 함수들\n",
    "    print()\n",
    "    int()\n",
    "    str()\n",
    "    float()\n",
    "    input()\n",
    "    list()\n",
    "    dict()\n",
    "    range()\n",
    "    append() 등\n",
    "    \n",
    "    지금까지 명령어라고 명명했지만, 앞으로는 함수라고 지칭하겠습니다.\n",
    "    "
   ]
  },
  {
   "cell_type": "markdown",
   "id": "54737756",
   "metadata": {},
   "source": [
    "### 1-6. 연습문제\n",
    "    simple calculator\n",
    "   "
   ]
  },
  {
   "cell_type": "code",
   "execution_count": 9,
   "id": "04909888",
   "metadata": {},
   "outputs": [],
   "source": [
    "def cal_sum(x, y):\n",
    "    return x + y\n",
    "\n",
    "def cal_sub(x, y):\n",
    "    return x - y\n",
    "\n",
    "def cal_mul(x, y):\n",
    "    return x * y\n",
    "\n",
    "def cal_div(x, y):\n",
    "    return x / y"
   ]
  },
  {
   "cell_type": "code",
   "execution_count": 11,
   "id": "29e41f4f",
   "metadata": {},
   "outputs": [
    {
     "name": "stdout",
     "output_type": "stream",
     "text": [
      "7\n",
      "97\n",
      "15\n",
      "3.3333333333333335\n"
     ]
    }
   ],
   "source": [
    "print(cal_sum(3, 4))\n",
    "print(cal_sub(100, 3))\n",
    "print(cal_mul(3, 5))\n",
    "print(cal_div(10, 3))"
   ]
  },
  {
   "cell_type": "markdown",
   "id": "ae156b10",
   "metadata": {},
   "source": [
    "### 1-7. python 예약어로 지정된 함수들을 쪼개봅시다.\n",
    "    sum()함수는 python 언어에 내장되어 있는 함수입니다.\n",
    "    parameter로 iterable 변수 즉, 반복문으로 내부 인자의 루프를 돌 수 있는 변수를 받고, 그 합을 출력합니다.\n",
    "    \n",
    "    max()함수 또한 python의 내장함수로 sum()과 같은 형식의 입력을 받아 최대값을 반환하는 함수입니다."
   ]
  },
  {
   "cell_type": "code",
   "execution_count": 12,
   "id": "ffa869ee",
   "metadata": {},
   "outputs": [
    {
     "name": "stdout",
     "output_type": "stream",
     "text": [
      "15\n",
      "5\n"
     ]
    }
   ],
   "source": [
    "test_list = [1, 2, 3, 4, 5]\n",
    "print(sum(test_list))\n",
    "print(max(test_list))"
   ]
  },
  {
   "cell_type": "code",
   "execution_count": 13,
   "id": "36560b20",
   "metadata": {},
   "outputs": [],
   "source": [
    "def sum_sum(a):\n",
    "    sum = 0\n",
    "    for i in a:\n",
    "        sum += i\n",
    "    return sum\n",
    "\n",
    "def max_max(a):\n",
    "    max = 0\n",
    "    for i in a:\n",
    "        if(i > max):\n",
    "            max = i\n",
    "    return max"
   ]
  },
  {
   "cell_type": "code",
   "execution_count": 15,
   "id": "b3ff4c03",
   "metadata": {},
   "outputs": [
    {
     "name": "stdout",
     "output_type": "stream",
     "text": [
      "15\n",
      "5\n"
     ]
    }
   ],
   "source": [
    "print(sum_sum(test_list))\n",
    "print(max_max(test_list))"
   ]
  },
  {
   "cell_type": "markdown",
   "id": "1a36f8e5",
   "metadata": {},
   "source": [
    "## 2. class\n",
    "    위에서 만든 계산기 함수를 살펴봅시다.\n",
    "    구조가 비슷하고 연산에 따른 반환값이 다른 함수가 여러개가 있다.\n",
    "    비슷한 함수들을 조금 간편하게 만들 수 없을까?\n",
    "\n",
    "    클래스란?\n",
    "    같은 목적 혹은 대상을 위해 만들어진 함수들의 묶음"
   ]
  },
  {
   "cell_type": "markdown",
   "id": "eff4b20c",
   "metadata": {},
   "source": [
    "### 2-1. 클래스의 구조\n",
    "    class [클래스명]: # 클래스의 선언\n",
    "\n",
    "    def __init__(self, [파라메터]):\n",
    "        self.[변수명] = [파라메터] # 클래스를 만들면서 입력받는 parameter를 클래스 내에서 사용가능 하도록 초기화\n",
    "        self.x = x # 예시\n",
    "\n",
    "    def [함수명]([self, 파라메터]):\n",
    "        [실행코드]\n",
    "\n",
    "    클래스의 선언은 함수와 달리 소괄호없이 선언한다.\n",
    "    클래스명 문법 각 단어의 첫 알파벳을 대문자로 ex) MyClass, SumTotal\n",
    "    클래스 선언이후 처음 작성하는 __init__ 함수는 클래스가 정의되면서 입력되는 파라메터를 저장하고 재사용하기 위한 초기화함수\n",
    "    클래스 내 함수의 파라메터앞에는 항상 self를 추가해주어야 하며, __init__ 함수에서 설정한 변수 사용시에도 self를 추가해준다.\n",
    "    self.변수는 클래스 내부에서 사용되며 클래스 내부에 있는 모든 함수에 사용이 가능하다."
   ]
  },
  {
   "cell_type": "markdown",
   "id": "973258d1",
   "metadata": {},
   "source": [
    "### 2-2. 계산기 클래스"
   ]
  },
  {
   "cell_type": "code",
   "execution_count": 16,
   "id": "8d09e966",
   "metadata": {},
   "outputs": [],
   "source": [
    "class Calculator:\n",
    "    def __init__(self, x, y):\n",
    "        self.x = x;\n",
    "        self.y = y;\n",
    "        \n",
    "    def my_sum(self):\n",
    "        return self.x + self.y\n",
    "    \n",
    "    def my_sub(self):\n",
    "        return self.x - self.y\n",
    "    \n",
    "    def my_mul(self):\n",
    "        return self.x * self.y\n",
    "    \n",
    "    def my_div(self):\n",
    "        return self.x / self.y"
   ]
  },
  {
   "cell_type": "code",
   "execution_count": 17,
   "id": "9d1472b9",
   "metadata": {},
   "outputs": [],
   "source": [
    "mycal = Calculator(1000, 45)"
   ]
  },
  {
   "cell_type": "code",
   "execution_count": 18,
   "id": "b0a35e30",
   "metadata": {},
   "outputs": [
    {
     "data": {
      "text/plain": [
       "22.22222222222222"
      ]
     },
     "execution_count": 18,
     "metadata": {},
     "output_type": "execute_result"
    }
   ],
   "source": [
    "mycal.my_div()"
   ]
  },
  {
   "cell_type": "markdown",
   "id": "2d851593",
   "metadata": {},
   "source": [
    "### 2-3. 그럼 클래스와 함수는 항상 만들어야 할까??\n",
    "    그렇지 않습니다. 오히려 이미 만들어져 있는 함수와 클래스가 많기 때문에 그대로 사용하는 것을 권장합니다.\n",
    "    프로그래밍 혹은 데이터 분석에 필요한 수많은 함수들이 이미 만들어져 있고, 이러한 함수들을 경우에 맞게\n",
    "    호출하여 사용하기 위해 함수들을 학습합니다."
   ]
  },
  {
   "cell_type": "markdown",
   "id": "bb8e9584",
   "metadata": {},
   "source": [
    "### 2-4. 남이 만든 클래스와 함수를 가져오자!\n",
    "    import [클래스명]\n",
    "    import [클래스명] as [닉네임]\n",
    "    from [패키지명] import [클래스명]"
   ]
  },
  {
   "cell_type": "code",
   "execution_count": 20,
   "id": "08b2bb11",
   "metadata": {},
   "outputs": [],
   "source": [
    "# random이라는 이름의 클래스를 불러오기\n",
    "import random\n",
    "\n",
    "# numpy class를 불러오고 np라는 닉네임으로 사용하도록 선언한다.\n",
    "import numpy as np\n",
    "\n",
    "# pandas class를 불러오고 pd라는 닉네임으로 사용하도록 선언한다.\n",
    "import pandas as pd\n",
    "\n",
    "# 방금전 만든 Calculator class를 불러오기\n",
    "#from cal import Calculator as cal"
   ]
  },
  {
   "cell_type": "markdown",
   "id": "c1bb462e",
   "metadata": {},
   "source": [
    "### 2-5. class의 사용\n",
    "    불러들인 클래스에는 함수들이 묶여있습니다.\n",
    "    클래스를 불러들여도 실제로 작업은 함수를 실행시켜 작동하게 됩니다.\n",
    "    이번에는 클래스 내의 함수를 이용해보겠습니다.\n",
    "    \n",
    "#### random class를 사용해보자.\n",
    "    random 함수는 오래된 python module(class)입니다.\n",
    "    random한 값을 생성하거나 뽑아오는데 사용합니다.\n",
    "    \n",
    "    random module 불러오기\n",
    "    import random\n",
    "    \n",
    "    random module의 자주 사용하는 함수\n",
    "    random.random() : 0 ~ 1 사이의 실수 하나를 return\n",
    "    random.randint(a, b) : a ~ b 사이의 정수를 하나 return\n",
    "    random.choice(list or dataset) : list의 무작위 sample 하나를 return\n",
    "    random.sample(list or dataset, N(sampling할 데이터의 개수) : list의 무작위 샘플 N개를 return\n",
    "    random.shuffle(list or dataset) list 순서 섞기"
   ]
  },
  {
   "cell_type": "code",
   "execution_count": 21,
   "id": "603d0c79",
   "metadata": {},
   "outputs": [
    {
     "data": {
      "text/plain": [
       "2"
      ]
     },
     "execution_count": 21,
     "metadata": {},
     "output_type": "execute_result"
    }
   ],
   "source": [
    "test_list = [13, 2, 3, 45, 6, 21, 39]\n",
    "\n",
    "random.choice(test_list)"
   ]
  },
  {
   "cell_type": "code",
   "execution_count": 22,
   "id": "4a2f74c0",
   "metadata": {},
   "outputs": [
    {
     "name": "stdout",
     "output_type": "stream",
     "text": [
      "[45, 37, 24, 29, 43, 16]\n"
     ]
    }
   ],
   "source": [
    "# random module을 이용한 로또 번호 생성기\n",
    "\n",
    "random.randint(1, 45)\n",
    "lotto = []\n",
    "\n",
    "for i in range(6):\n",
    "    lotto.append(random.randint(1, 45))\n",
    "print(lotto)\n",
    "\n",
    "for i in range(1, 46):\n",
    "    if(lotto.count(i) > 1):\n",
    "        print('중복입니다.')"
   ]
  },
  {
   "cell_type": "markdown",
   "id": "0afb3606",
   "metadata": {},
   "source": [
    "### 3-1. 스무고개 게임 upgrade\n",
    "    이전에 구현했던 바와 동일하게 제공되는 수를 random 함수를 이용해 구현한다.\n",
    "    이미 구현했기 때문에 생략하겠습니다.\n",
    "    \n",
    "### 3-2. 캐릭터 모의전투\n",
    "    전사와 마법사 캐릭터를 만들수 있는 클래스를 생성합니다\n",
    "    전사와 마법사의 캐릭터 특성을 생각하여 차별을 둘 수 있도록 초기화합니다.\n",
    "\n",
    "    전투 클래스를 생성합니다.\n",
    "    각 캐릭터별 특성에 따라 전투(공격)을 번갈아 가면서 진행하고\n",
    "    전투 결과를 출력할 수 있는 클래스를 생성합니다."
   ]
  },
  {
   "cell_type": "code",
   "execution_count": 30,
   "id": "650ac946",
   "metadata": {},
   "outputs": [],
   "source": [
    "# 전사, 마법사 class를 이용해 생성한 후 모의 전투를 하는 프로그램\n",
    "import numpy as np\n",
    "import random\n",
    "import time\n",
    "\n",
    "class Character:\n",
    "    \n",
    "    def __init__(self, job):\n",
    "        self.job = job\n",
    "        self.vital = 100\n",
    "        self.defence = 10\n",
    "        self.attack = 15\n",
    "        \n",
    "        if self.job == '전사':\n",
    "            self.vital += random.randint(5, 10)\n",
    "            self.defence += random.randint(5, 10)\n",
    "        elif self.job == '마법사':\n",
    "            self.attack += random.randint(7, 15)\n",
    "            self.defence += random.randint(1, 5)\n",
    "            \n",
    "class Battle:\n",
    "    def __init__(self, p1, p2):\n",
    "        self.p1 = p1\n",
    "        self.p2 = p2\n",
    "        \n",
    "    def fight(self):\n",
    "        for i in range(30):\n",
    "            time.sleep(1)\n",
    "            print(str(i+1) + ' term fight result')\n",
    "            attack_p2 = (self.p2.attack + random.randint(-2, 2) - self.p1.defence)\n",
    "            attack_p1 = (self.p1.attack + random.randint(-2, 2) - self.p2.defence)\n",
    "            self.p1.vital -= attack_p2\n",
    "            self.p2.vital -= attack_p1\n",
    "            print(self.p1.job + '가 ' + self.p2.job + '의 공격력 ' + str(attack_p2) +'만큼의 공격을 받아 체력이 ' + str(self.p1.vital) + '이(가) 되었습니다!')\n",
    "            print(self.p2.job + '가 ' + self.p1.job + '의 공격력 ' + str(attack_p1) +'만큼의 공격을 받아 체력이 ' + str(self.p2.vital) + '이(가) 되었습니다!')\n",
    "            \n",
    "            if self.p1.vital <= 0 or self.p2.vital <= 0:\n",
    "                print('전투가 종료되었습니다..')\n",
    "                break"
   ]
  },
  {
   "cell_type": "code",
   "execution_count": 31,
   "id": "4a2ebcf8",
   "metadata": {},
   "outputs": [],
   "source": [
    "battle = Battle(Character('전사'), Character('마법사'))"
   ]
  },
  {
   "cell_type": "code",
   "execution_count": 32,
   "id": "1b4a7e18",
   "metadata": {},
   "outputs": [
    {
     "name": "stdout",
     "output_type": "stream",
     "text": [
      "1 term fight result\n",
      "전사가 마법사의 공격력 9만큼의 공격을 받아 체력이 96이(가) 되었습니다!\n",
      "마법사가 전사의 공격력 2만큼의 공격을 받아 체력이 98이(가) 되었습니다!\n",
      "2 term fight result\n",
      "전사가 마법사의 공격력 9만큼의 공격을 받아 체력이 87이(가) 되었습니다!\n",
      "마법사가 전사의 공격력 2만큼의 공격을 받아 체력이 96이(가) 되었습니다!\n",
      "3 term fight result\n",
      "전사가 마법사의 공격력 6만큼의 공격을 받아 체력이 81이(가) 되었습니다!\n",
      "마법사가 전사의 공격력 1만큼의 공격을 받아 체력이 95이(가) 되었습니다!\n",
      "4 term fight result\n",
      "전사가 마법사의 공격력 7만큼의 공격을 받아 체력이 74이(가) 되었습니다!\n",
      "마법사가 전사의 공격력 2만큼의 공격을 받아 체력이 93이(가) 되었습니다!\n",
      "5 term fight result\n",
      "전사가 마법사의 공격력 6만큼의 공격을 받아 체력이 68이(가) 되었습니다!\n",
      "마법사가 전사의 공격력 2만큼의 공격을 받아 체력이 91이(가) 되었습니다!\n",
      "6 term fight result\n",
      "전사가 마법사의 공격력 8만큼의 공격을 받아 체력이 60이(가) 되었습니다!\n",
      "마법사가 전사의 공격력 3만큼의 공격을 받아 체력이 88이(가) 되었습니다!\n",
      "7 term fight result\n",
      "전사가 마법사의 공격력 9만큼의 공격을 받아 체력이 51이(가) 되었습니다!\n",
      "마법사가 전사의 공격력 2만큼의 공격을 받아 체력이 86이(가) 되었습니다!\n",
      "8 term fight result\n",
      "전사가 마법사의 공격력 8만큼의 공격을 받아 체력이 43이(가) 되었습니다!\n",
      "마법사가 전사의 공격력 0만큼의 공격을 받아 체력이 86이(가) 되었습니다!\n",
      "9 term fight result\n",
      "전사가 마법사의 공격력 8만큼의 공격을 받아 체력이 35이(가) 되었습니다!\n",
      "마법사가 전사의 공격력 3만큼의 공격을 받아 체력이 83이(가) 되었습니다!\n",
      "10 term fight result\n",
      "전사가 마법사의 공격력 9만큼의 공격을 받아 체력이 26이(가) 되었습니다!\n",
      "마법사가 전사의 공격력 2만큼의 공격을 받아 체력이 81이(가) 되었습니다!\n",
      "11 term fight result\n",
      "전사가 마법사의 공격력 10만큼의 공격을 받아 체력이 16이(가) 되었습니다!\n",
      "마법사가 전사의 공격력 3만큼의 공격을 받아 체력이 78이(가) 되었습니다!\n",
      "12 term fight result\n",
      "전사가 마법사의 공격력 10만큼의 공격을 받아 체력이 6이(가) 되었습니다!\n",
      "마법사가 전사의 공격력 2만큼의 공격을 받아 체력이 76이(가) 되었습니다!\n",
      "13 term fight result\n",
      "전사가 마법사의 공격력 9만큼의 공격을 받아 체력이 -3이(가) 되었습니다!\n",
      "마법사가 전사의 공격력 0만큼의 공격을 받아 체력이 76이(가) 되었습니다!\n",
      "전투가 종료되었습니다..\n"
     ]
    }
   ],
   "source": [
    "battle.fight()"
   ]
  },
  {
   "cell_type": "code",
   "execution_count": null,
   "id": "1357b6e1",
   "metadata": {},
   "outputs": [],
   "source": []
  }
 ],
 "metadata": {
  "kernelspec": {
   "display_name": "Python 3",
   "language": "python",
   "name": "python3"
  },
  "language_info": {
   "codemirror_mode": {
    "name": "ipython",
    "version": 3
   },
   "file_extension": ".py",
   "mimetype": "text/x-python",
   "name": "python",
   "nbconvert_exporter": "python",
   "pygments_lexer": "ipython3",
   "version": "3.8.8"
  }
 },
 "nbformat": 4,
 "nbformat_minor": 5
}
