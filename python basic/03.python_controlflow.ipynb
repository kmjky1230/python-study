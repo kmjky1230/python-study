{
 "cells": [
  {
   "cell_type": "markdown",
   "id": "35e21fd9",
   "metadata": {},
   "source": [
    "# 흐름 제어문 (flow)\n",
    "    데이터 혹은 사용자가 설정한 조건에 따라 코드의 작동 및 프로그램이 제어되도록 하는 구문을 의미합니다.\n",
    "    판별문 혹은 조건문 ex) if, elif, else\n",
    "    반복문 ex) for, while\n",
    "    예외처리 ex) break, try, except, continue\n",
    "    흐름제어문을 구분하기 위해 indentation block(들여쓰기) 4칸, 혹은 tab을 사용합니다."
   ]
  },
  {
   "cell_type": "markdown",
   "id": "14f9d670",
   "metadata": {},
   "source": [
    "## 흐름제어문의 구성\n",
    "    순차 : 위에서부터 아래 방향으로 코드가 실행됩니다.\n",
    "    분기 : 판별문\n",
    "    반복 : while, for\n",
    "    반복 - 함수, 클래스"
   ]
  },
  {
   "cell_type": "markdown",
   "id": "d179de40",
   "metadata": {},
   "source": [
    "## 1. if, elif, else\n",
    "    이전과 같이 입력한대로 코드를 무조건적으로 실행하는 것이 아니라 사용자가 설정한 조건에 맞는 경우에만,\n",
    "    코드가 실행되는 구조를 만들 때 사용합니다. 코드의 흐름을 나누는 분기의 역할을 합니다."
   ]
  },
  {
   "cell_type": "markdown",
   "id": "1b7c5e84",
   "metadata": {},
   "source": [
    "### 1-1. if문의 구조\n",
    "    if [조건식] : \n",
    "        [실행 코드]\n",
    "    elif [조건식] :\n",
    "        [실행 코드]\n",
    "    else :\n",
    "        [실행 코드]\n",
    "    if는 하나의 if문에서 단 한번만 등장 가능합니다. elif는 사용에 제한이 없지만, else는 마지막으로 걸러지지 못한\n",
    "    나머지 모든 경우를 수행하기 때문에 if와 마찬가지로 한 번만 사용 가능합니다.\n",
    "    \n",
    "    조건식 : 명제 - 참, 거짓을 판별할 수 있는 문장입니다. \n",
    "    - True, False로 결과가 나오는 코드(연산)\n",
    "    - True, False = Bool type data\n",
    "    \n",
    "    조건식, 비교 연산자 (변수 혹은 상수 값을 비교하여 True of False return)\n",
    "    a > b\n",
    "    a < b\n",
    "    a >= b\n",
    "    a <= b\n",
    "    a == b\n",
    "    a != b"
   ]
  },
  {
   "cell_type": "markdown",
   "id": "4e554e93",
   "metadata": {},
   "source": [
    "### 1-2. 간단한 if 구문"
   ]
  },
  {
   "cell_type": "code",
   "execution_count": 1,
   "id": "e1182495",
   "metadata": {},
   "outputs": [
    {
     "name": "stdout",
     "output_type": "stream",
     "text": [
      "참입니다!\n"
     ]
    }
   ],
   "source": [
    "# 조건문을 True, False로 작성한 if구문\n",
    "if True :\n",
    "    print('참입니다!')\n",
    "else :\n",
    "    print('거짓입니다!')"
   ]
  },
  {
   "cell_type": "code",
   "execution_count": 2,
   "id": "1875f6ac",
   "metadata": {},
   "outputs": [
    {
     "name": "stdout",
     "output_type": "stream",
     "text": [
      "4는 3보다 큽니다\n"
     ]
    }
   ],
   "source": [
    "# 조건식을 사용\n",
    "if 4 > 3 :\n",
    "    print('4는 3보다 큽니다')"
   ]
  },
  {
   "cell_type": "code",
   "execution_count": 3,
   "id": "420556fd",
   "metadata": {},
   "outputs": [
    {
     "name": "stdout",
     "output_type": "stream",
     "text": [
      "a는 4보다 큽니다.\n"
     ]
    }
   ],
   "source": [
    "# 변수를 조건문에 포함\n",
    "a = 10\n",
    "if a > 4 :\n",
    "    print('a는 4보다 큽니다.')\n",
    "else :\n",
    "    print('a는 4보다 작습니다.')"
   ]
  },
  {
   "cell_type": "markdown",
   "id": "f718ea4d",
   "metadata": {},
   "source": [
    "### 1-3. 제어문의 흐름을 파악해보자"
   ]
  },
  {
   "cell_type": "code",
   "execution_count": 4,
   "id": "965617fa",
   "metadata": {},
   "outputs": [
    {
     "name": "stdout",
     "output_type": "stream",
     "text": [
      "1\n",
      "2\n",
      "5\n",
      "7\n",
      "9\n",
      "11\n",
      "12\n",
      "13\n"
     ]
    }
   ],
   "source": [
    "# 아래 코드의 실행 결과는??\n",
    "print(1)\n",
    "if True:\n",
    "    print(2)\n",
    "    if False:\n",
    "        print(3)\n",
    "        print(4)\n",
    "    elif True:\n",
    "        print(5)\n",
    "        print(7)\n",
    "        if False:\n",
    "            print(8)\n",
    "        elif True:\n",
    "            print(9)\n",
    "    else:\n",
    "        print(10)\n",
    "    if True:\n",
    "        print(11)\n",
    "    print(12)\n",
    "print(13)\n",
    "\n",
    "# 위 예제의 출력할 수들 : 1, 2, 5, 7, 9, 11, 12, 13"
   ]
  },
  {
   "cell_type": "code",
   "execution_count": 5,
   "id": "18fbdff2",
   "metadata": {},
   "outputs": [
    {
     "name": "stdout",
     "output_type": "stream",
     "text": [
      "알 수 없다\n"
     ]
    }
   ],
   "source": [
    "a = 15\n",
    "\n",
    "if a > 100:\n",
    "    print('크다')\n",
    "    \n",
    "elif a> 1000:\n",
    "    print('엄청크다')\n",
    "    \n",
    "elif a < 10:\n",
    "    print('작다')\n",
    "\n",
    "else:\n",
    "    print('알 수 없다')\n",
    "    \n",
    "# expected output = 알 수 없다."
   ]
  },
  {
   "cell_type": "markdown",
   "id": "095db23b",
   "metadata": {},
   "source": [
    "### 조금 프로그램다운 코드를 작성하기 위해 사용자의 입력을 추가해봅시다.\n",
    "    var = input('입력받을 데이터의 설명 : ') \n",
    "    argument로 들어가는 문구가 string type 으로 들어가야 합니다.\n",
    "    입력받은 결과를 변수(var)에 함께 저장합니다. 입력받은 결과의 형식 또한\n",
    "    string type입니다. 숫자 형태로 사용하기 위해서는 data type transformation이 필요합니다."
   ]
  },
  {
   "cell_type": "code",
   "execution_count": 6,
   "id": "6d7233a2",
   "metadata": {},
   "outputs": [
    {
     "name": "stdout",
     "output_type": "stream",
     "text": [
      "숫자를 입력하세요 :3\n"
     ]
    }
   ],
   "source": [
    "# a라는 변수에 숫자를 입력받아 저장한다.\n",
    "# 입력과 저장을 한 번에 합니다.\n",
    "a = input('숫자를 입력하세요 :')"
   ]
  },
  {
   "cell_type": "code",
   "execution_count": 7,
   "id": "300e3740",
   "metadata": {},
   "outputs": [
    {
     "name": "stdout",
     "output_type": "stream",
     "text": [
      "숫자를 입력하세요 :10\n"
     ]
    }
   ],
   "source": [
    "# 입력값을 integer type을 casting하는 과정을 포함\n",
    "a = int(input('숫자를 입력하세요 :'))"
   ]
  },
  {
   "cell_type": "code",
   "execution_count": 8,
   "id": "6322f421",
   "metadata": {},
   "outputs": [
    {
     "name": "stdout",
     "output_type": "stream",
     "text": [
      "10\n"
     ]
    }
   ],
   "source": [
    "print(a)"
   ]
  },
  {
   "cell_type": "markdown",
   "id": "aa32d53a",
   "metadata": {},
   "source": [
    "### 1-4. 연습 문제\n",
    "    지난시간 공부한 변수와 데이터 타입에 대한 지식과\n",
    "    지금 공부하고 있는 input 함수를 이용하여 사용자로부터\n",
    "    키, 몸무게 정보를 입력받아 변수에 저장한 후 bmi를 계산한 후\n",
    "    아래 조건식에 따라 사용자의 체형 정보를 출력해주는 프로그램을 작성하시오.\n",
    "    \n",
    "    bmi = 체중(kg) / 키(m)^2\n",
    "    20미만 : 저체중\n",
    "    20 ~ 24미만 : 표준체중\n",
    "    24 - 30미만 : 과체중\n",
    "    30이상 : 비만"
   ]
  },
  {
   "cell_type": "code",
   "execution_count": 11,
   "id": "4846594b",
   "metadata": {},
   "outputs": [
    {
     "name": "stdout",
     "output_type": "stream",
     "text": [
      "몸무게를 입력하세요 :75\n",
      "체중을 입력하세요 :183\n",
      "당신의 bmi 수치는 22.395413419331717 입니다.\n",
      "표준체중입니다.\n"
     ]
    }
   ],
   "source": [
    "weight = int(input('몸무게를 입력하세요 :'))\n",
    "height = int(input('체중을 입력하세요 :'))\n",
    "\n",
    "bmi = weight / ((height/100) ** 2)\n",
    "\n",
    "print('당신의 bmi 수치는 {} 입니다.' .format(bmi))\n",
    "\n",
    "if bmi < 20 :\n",
    "    print('저체중입니다.')\n",
    "elif bmi < 24 :\n",
    "    print('표준체중입니다.')\n",
    "elif bmi < 30 :\n",
    "    print('과체중입니다.')\n",
    "else :\n",
    "    print('비만입니다!')"
   ]
  },
  {
   "cell_type": "markdown",
   "id": "b29d2486",
   "metadata": {},
   "source": [
    "## 2. for, break\n",
    "    코드의 반복적인 실행을 위해 필요한 구문입니다.\n",
    "    반복실행해야 하는 범위가 있을 때 사용합니다.\n",
    "    보통은 데이터의 개수 혹은 분석하고자 하는 데이터의 범위 내에서 반복작업을 할 때 사용합니다.\n",
    "    if문과 함께 주로 사용되는 반복 구문입니다."
   ]
  },
  {
   "cell_type": "markdown",
   "id": "a6b53731",
   "metadata": {},
   "source": [
    "### 2-1. for문의 구조\n",
    "    for [반복자] in [반복범위] :\n",
    "        [실행코드]\n",
    "        \n",
    "    반복자 : 구간(범위)를 순환하며 정의되는 변수를 의미\n",
    "    관례적으로 심플한 반복자는 영문자 i(iterator)를 주로 사용합니다.\n",
    "    \n",
    "    for문의 반복 범위는 list, dict등 순서가 있는 자료구조로 표현\n",
    "    혹은 range() 명령어로 또는 반복작업 횟수로 설정 가능합니다.\n",
    "    \n",
    "    range() 명령어\n",
    "    range(n) 0 ~ n-1 범위를 생성\n",
    "    range(x, y, z) x ~ y-1의 범위를 z step 범위로 만들어주는 함수"
   ]
  },
  {
   "cell_type": "markdown",
   "id": "d4fe5e2a",
   "metadata": {},
   "source": [
    "### 2-2. break 구문\n",
    "    반복 작업 도중에 반복을 종료할 때 사용합니다."
   ]
  },
  {
   "cell_type": "markdown",
   "id": "4d09523e",
   "metadata": {},
   "source": [
    "### 2-3. 간단한 for 구문 example"
   ]
  },
  {
   "cell_type": "code",
   "execution_count": 12,
   "id": "031964ed",
   "metadata": {},
   "outputs": [
    {
     "name": "stdout",
     "output_type": "stream",
     "text": [
      "안녕하세요\n",
      "안녕하세요\n",
      "안녕하세요\n",
      "안녕하세요\n",
      "안녕하세요\n",
      "안녕하세요\n",
      "5\n"
     ]
    }
   ],
   "source": [
    "# _ or i를 iterator로 사용한다. (iterator를 변수처럼 사용할 수 있습니다.)\n",
    "for i in range(10): (i : 0 ~ 9)\n",
    "    print('안녕하세요')\n",
    "    \n",
    "    # 반복을 중단하고 싶은 경우\n",
    "    if i == 5:\n",
    "        print(i)\n",
    "        break"
   ]
  },
  {
   "cell_type": "markdown",
   "id": "baa8a1ca",
   "metadata": {},
   "source": [
    "### 2-4. for문의 다양한 활용 방법"
   ]
  },
  {
   "cell_type": "code",
   "execution_count": 16,
   "id": "1b44126b",
   "metadata": {},
   "outputs": [
    {
     "name": "stdout",
     "output_type": "stream",
     "text": [
      "1\n",
      "2\n",
      "3\n",
      "4\n",
      "5\n",
      "6\n",
      "7\n",
      "8\n",
      "9\n"
     ]
    }
   ],
   "source": [
    "# 구간이 정해져있는 데이터를 순환하며 작업\n",
    "test_list = [1, 2, 3, 4, 5, 6, 7, 8, 9]\n",
    "for i in test_list:\n",
    "    print(i)"
   ]
  },
  {
   "cell_type": "code",
   "execution_count": 17,
   "id": "0eb6e109",
   "metadata": {},
   "outputs": [
    {
     "name": "stdout",
     "output_type": "stream",
     "text": [
      "0 서울\n",
      "1 용산구\n",
      "2 해방촌\n",
      "3 르카페\n",
      "4 재즈\n",
      "5 치즈\n",
      "6 요리\n"
     ]
    }
   ],
   "source": [
    "# enumerate() 함수안의 자료구조의 순번과 함께 반복을 실시한다.\n",
    "test_list = ['서울', '용산구', '해방촌', '르카페', '재즈', '치즈', '요리']\n",
    "for index, item in enumerate(test_list):\n",
    "    print(index, item)"
   ]
  },
  {
   "cell_type": "code",
   "execution_count": 18,
   "id": "d5bf9433",
   "metadata": {},
   "outputs": [
    {
     "name": "stdout",
     "output_type": "stream",
     "text": [
      "이름 강동훈\n",
      "사는곳 서울 구로구\n",
      "사는동네 개봉동\n",
      "좋아하는 카페 없음\n",
      "음악 이것저것\n",
      "반려묘 없음\n",
      "취미 런닝\n"
     ]
    }
   ],
   "source": [
    "# zip 함수로 개수가 같은 다른 자료구조와 함께 작업\n",
    "test_list1 = ['이름', '사는곳', '사는동네', '좋아하는 카페', '음악', '반려묘', '취미']\n",
    "test_list2 = ['강동훈', '서울 구로구', '개봉동', '없음', '이것저것', '없음', '런닝']\n",
    "\n",
    "for item1, item2 in zip(test_list1, test_list2):\n",
    "    print(item1, item2)"
   ]
  },
  {
   "cell_type": "code",
   "execution_count": 19,
   "id": "52005ba5",
   "metadata": {},
   "outputs": [
    {
     "name": "stdout",
     "output_type": "stream",
     "text": [
      "[0, 1, 2, 3, 4, 5, 6, 7, 8, 9]\n"
     ]
    }
   ],
   "source": [
    "# 그렇다면 미리 정해진 숫자 혹은 데이터로만 사용이 가능할까?\n",
    "# no -> 생성할 때도 용이함\n",
    "test_list = []\n",
    "for i in range(10):\n",
    "    test_list.append(i)\n",
    "print(test_list)"
   ]
  },
  {
   "cell_type": "markdown",
   "id": "cb8d445d",
   "metadata": {},
   "source": [
    "### 2-4. 입력받은 숫자끼리의 합을 계산하는 코드를 작성해봅시다."
   ]
  },
  {
   "cell_type": "code",
   "execution_count": 21,
   "id": "337a10b7",
   "metadata": {},
   "outputs": [
    {
     "name": "stdout",
     "output_type": "stream",
     "text": [
      "숫자를 입력하세요: 100\n",
      "5050\n"
     ]
    }
   ],
   "source": [
    "a = int(input('숫자를 입력하세요: '))\n",
    "b = 0\n",
    "\n",
    "for i in range(a + 1):\n",
    "    b += i\n",
    "print(b)"
   ]
  },
  {
   "cell_type": "markdown",
   "id": "047c4cf4",
   "metadata": {},
   "source": [
    "## 3. while(무한 루프)\n",
    "    코드의 반복적 실행을 위한 반복문 중 하나입니다.\n",
    "    조건식이 참일 경우 반복구문을 계속해서 실행합니다.\n",
    "    보통은 프로그램을 실행 대기 상태로 두거나 입력값을 받는 등의\n",
    "    용도로 사용합니다."
   ]
  },
  {
   "cell_type": "markdown",
   "id": "76056e22",
   "metadata": {},
   "source": [
    "### 3-1. while 문의 구조\n",
    "    while [조건식]:\n",
    "        [실행 코드]\n",
    "        \n",
    "    while문은 whlie문의 조건식이 참일 경우 무조건적으로 실행되도록 짜여진 구조입니다.\n",
    "    while문을 사용할 때는 항상 반복구문을 어떻게 종료할지 설정해야 합니다."
   ]
  },
  {
   "cell_type": "markdown",
   "id": "4950985a",
   "metadata": {},
   "source": [
    "### 3-2. 간단한 while문 구조"
   ]
  },
  {
   "cell_type": "code",
   "execution_count": 1,
   "id": "71558599",
   "metadata": {},
   "outputs": [
    {
     "name": "stdout",
     "output_type": "stream",
     "text": [
      "무한 루프\n",
      "무한 루프\n",
      "무한 루프\n",
      "무한 루프\n",
      "무한 루프\n",
      "무한 루프\n",
      "무한 루프\n",
      "무한 루프\n",
      "무한 루프\n",
      "무한 루프\n",
      "무한 루프\n",
      "무한 루프\n",
      "무한 루프\n",
      "무한 루프\n",
      "무한 루프\n",
      "무한 루프\n",
      "무한 루프\n",
      "무한 루프\n",
      "무한 루프\n",
      "무한 루프\n",
      "무한 루프\n",
      "무한 루프\n",
      "무한 루프\n",
      "무한 루프\n",
      "무한 루프\n",
      "무한 루프\n",
      "무한 루프\n",
      "무한 루프\n",
      "무한 루프\n",
      "무한 루프\n",
      "무한 루프\n",
      "무한 루프\n",
      "무한 루프\n",
      "무한 루프\n",
      "무한 루프\n",
      "무한 루프\n",
      "무한 루프\n",
      "무한 루프\n",
      "무한 루프\n",
      "무한 루프\n",
      "무한 루프\n",
      "무한 루프\n",
      "무한 루프\n",
      "무한 루프\n",
      "무한 루프\n",
      "무한 루프\n",
      "무한 루프\n",
      "무한 루프\n",
      "무한 루프\n",
      "무한 루프\n",
      "무한 루프\n"
     ]
    }
   ],
   "source": [
    "# for문과 달리 조건식을 while 바로 뒤에 작성합니다.\n",
    "# while문의 무한 루프를 control하기 위한 변수를 설정하고 조건식을 추가하여 코드실행을 control합니다.\n",
    "\n",
    "a = 0\n",
    "while True:\n",
    "    print('무한 루프')\n",
    "    a += 1\n",
    "    if a > 50:\n",
    "        break"
   ]
  },
  {
   "cell_type": "markdown",
   "id": "113b40ec",
   "metadata": {},
   "source": [
    "### 3-3. while vs for"
   ]
  },
  {
   "cell_type": "code",
   "execution_count": 2,
   "id": "df37cc8e",
   "metadata": {},
   "outputs": [
    {
     "name": "stdout",
     "output_type": "stream",
     "text": [
      "1\n",
      "2\n",
      "3\n",
      "4\n",
      "5\n",
      "6\n",
      "7\n",
      "8\n",
      "9\n",
      "10\n",
      "11\n",
      "12\n",
      "13\n",
      "14\n",
      "15\n",
      "16\n",
      "17\n",
      "18\n",
      "19\n",
      "20\n",
      "21\n",
      "22\n",
      "23\n",
      "24\n",
      "25\n",
      "26\n",
      "27\n",
      "28\n",
      "29\n",
      "30\n",
      "31\n",
      "32\n",
      "33\n",
      "34\n",
      "35\n",
      "36\n",
      "37\n",
      "38\n",
      "39\n",
      "40\n",
      "41\n",
      "42\n",
      "43\n",
      "44\n",
      "45\n",
      "46\n",
      "47\n",
      "48\n",
      "49\n",
      "50\n",
      "51\n",
      "52\n",
      "53\n",
      "54\n",
      "55\n",
      "56\n",
      "57\n",
      "58\n",
      "59\n",
      "60\n",
      "61\n",
      "62\n",
      "63\n",
      "64\n",
      "65\n",
      "66\n",
      "67\n",
      "68\n",
      "69\n",
      "70\n",
      "71\n",
      "72\n",
      "73\n",
      "74\n",
      "75\n",
      "76\n",
      "77\n",
      "78\n",
      "79\n",
      "80\n",
      "81\n",
      "82\n",
      "83\n",
      "84\n",
      "85\n",
      "86\n",
      "87\n",
      "88\n",
      "89\n",
      "90\n",
      "91\n",
      "92\n",
      "93\n",
      "94\n",
      "95\n",
      "96\n",
      "97\n",
      "98\n",
      "99\n",
      "100\n",
      "1\n",
      "2\n",
      "3\n",
      "4\n",
      "5\n",
      "6\n",
      "7\n",
      "8\n",
      "9\n",
      "10\n",
      "11\n",
      "12\n",
      "13\n",
      "14\n",
      "15\n",
      "16\n",
      "17\n",
      "18\n",
      "19\n",
      "20\n",
      "21\n",
      "22\n",
      "23\n",
      "24\n",
      "25\n",
      "26\n",
      "27\n",
      "28\n",
      "29\n",
      "30\n",
      "31\n",
      "32\n",
      "33\n",
      "34\n",
      "35\n",
      "36\n",
      "37\n",
      "38\n",
      "39\n",
      "40\n",
      "41\n",
      "42\n",
      "43\n",
      "44\n",
      "45\n",
      "46\n",
      "47\n",
      "48\n",
      "49\n",
      "50\n",
      "51\n",
      "52\n",
      "53\n",
      "54\n",
      "55\n",
      "56\n",
      "57\n",
      "58\n",
      "59\n",
      "60\n",
      "61\n",
      "62\n",
      "63\n",
      "64\n",
      "65\n",
      "66\n",
      "67\n",
      "68\n",
      "69\n",
      "70\n",
      "71\n",
      "72\n",
      "73\n",
      "74\n",
      "75\n",
      "76\n",
      "77\n",
      "78\n",
      "79\n",
      "80\n",
      "81\n",
      "82\n",
      "83\n",
      "84\n",
      "85\n",
      "86\n",
      "87\n",
      "88\n",
      "89\n",
      "90\n",
      "91\n",
      "92\n",
      "93\n",
      "94\n",
      "95\n",
      "96\n",
      "97\n",
      "98\n",
      "99\n",
      "100\n"
     ]
    }
   ],
   "source": [
    "# 1 ~ 100 출력\n",
    "a = 1\n",
    "while a < 101:\n",
    "    print(a)\n",
    "    a += 1\n",
    "    \n",
    "for a in range(1, 101):\n",
    "    print(a)"
   ]
  },
  {
   "cell_type": "code",
   "execution_count": 4,
   "id": "a9797827",
   "metadata": {},
   "outputs": [
    {
     "name": "stdout",
     "output_type": "stream",
     "text": [
      "100\n",
      "99\n",
      "98\n",
      "97\n",
      "96\n",
      "95\n",
      "94\n",
      "93\n",
      "92\n",
      "91\n",
      "90\n",
      "89\n",
      "88\n",
      "87\n",
      "86\n",
      "85\n",
      "84\n",
      "83\n",
      "82\n",
      "81\n",
      "80\n",
      "79\n",
      "78\n",
      "77\n",
      "76\n",
      "75\n",
      "74\n",
      "73\n",
      "72\n",
      "71\n",
      "70\n",
      "69\n",
      "68\n",
      "67\n",
      "66\n",
      "65\n",
      "64\n",
      "63\n",
      "62\n",
      "61\n",
      "60\n",
      "59\n",
      "58\n",
      "57\n",
      "56\n",
      "55\n",
      "54\n",
      "53\n",
      "52\n",
      "51\n",
      "50\n",
      "49\n",
      "48\n",
      "47\n",
      "46\n",
      "45\n",
      "44\n",
      "43\n",
      "42\n",
      "41\n",
      "40\n",
      "39\n",
      "38\n",
      "37\n",
      "36\n",
      "35\n",
      "34\n",
      "33\n",
      "32\n",
      "31\n",
      "30\n",
      "29\n",
      "28\n",
      "27\n",
      "26\n",
      "25\n",
      "24\n",
      "23\n",
      "22\n",
      "21\n",
      "20\n",
      "19\n",
      "18\n",
      "17\n",
      "16\n",
      "15\n",
      "14\n",
      "13\n",
      "12\n",
      "11\n",
      "10\n",
      "9\n",
      "8\n",
      "7\n",
      "6\n",
      "5\n",
      "4\n",
      "3\n",
      "2\n",
      "1\n",
      "100\n",
      "99\n",
      "98\n",
      "97\n",
      "96\n",
      "95\n",
      "94\n",
      "93\n",
      "92\n",
      "91\n",
      "90\n",
      "89\n",
      "88\n",
      "87\n",
      "86\n",
      "85\n",
      "84\n",
      "83\n",
      "82\n",
      "81\n",
      "80\n",
      "79\n",
      "78\n",
      "77\n",
      "76\n",
      "75\n",
      "74\n",
      "73\n",
      "72\n",
      "71\n",
      "70\n",
      "69\n",
      "68\n",
      "67\n",
      "66\n",
      "65\n",
      "64\n",
      "63\n",
      "62\n",
      "61\n",
      "60\n",
      "59\n",
      "58\n",
      "57\n",
      "56\n",
      "55\n",
      "54\n",
      "53\n",
      "52\n",
      "51\n",
      "50\n",
      "49\n",
      "48\n",
      "47\n",
      "46\n",
      "45\n",
      "44\n",
      "43\n",
      "42\n",
      "41\n",
      "40\n",
      "39\n",
      "38\n",
      "37\n",
      "36\n",
      "35\n",
      "34\n",
      "33\n",
      "32\n",
      "31\n",
      "30\n",
      "29\n",
      "28\n",
      "27\n",
      "26\n",
      "25\n",
      "24\n",
      "23\n",
      "22\n",
      "21\n",
      "20\n",
      "19\n",
      "18\n",
      "17\n",
      "16\n",
      "15\n",
      "14\n",
      "13\n",
      "12\n",
      "11\n",
      "10\n",
      "9\n",
      "8\n",
      "7\n",
      "6\n",
      "5\n",
      "4\n",
      "3\n",
      "2\n",
      "1\n"
     ]
    }
   ],
   "source": [
    "# 100 ~ 1 출력\n",
    "a = 100\n",
    "while a > 0:\n",
    "    print(a)\n",
    "    a -= 1\n",
    "    \n",
    "for a in range(100, 0, -1):\n",
    "    print(a)"
   ]
  },
  {
   "cell_type": "code",
   "execution_count": 5,
   "id": "1b0b3ce4",
   "metadata": {},
   "outputs": [
    {
     "name": "stdout",
     "output_type": "stream",
     "text": [
      "15\n",
      "15\n"
     ]
    }
   ],
   "source": [
    "# 1 ~ 5의 합을 구해서 출력합니다.\n",
    "a = 1\n",
    "result = 0\n",
    "while a < 6:\n",
    "    result += a\n",
    "    a += 1\n",
    "print(result)\n",
    "\n",
    "result = 0\n",
    "for b in range(1, 6):\n",
    "    result += b\n",
    "print(result)"
   ]
  },
  {
   "cell_type": "code",
   "execution_count": 6,
   "id": "28732572",
   "metadata": {},
   "outputs": [
    {
     "name": "stdout",
     "output_type": "stream",
     "text": [
      "5050\n",
      "5050\n"
     ]
    }
   ],
   "source": [
    "# 1 ~ 100의 합을 구해서 출력해주는 프로그램\n",
    "a = 1\n",
    "total = 0\n",
    "while a < 101:\n",
    "    total += a\n",
    "    a += 1\n",
    "print(total)\n",
    "\n",
    "total = 0\n",
    "for a in range(1, 101):\n",
    "    total += a\n",
    "print(total)"
   ]
  },
  {
   "cell_type": "markdown",
   "id": "b1a31609",
   "metadata": {},
   "source": [
    "### (참고) python skill\n",
    "    list comprehension\n",
    "    control flow를 활용하여 간단하게 리스트 생성이 가능하다\n",
    "    데이터의 특정 부분만을 따로 변수로 사용하고자 할 때 굉장히 많이 사용하는 python skill이라고 한다."
   ]
  },
  {
   "cell_type": "code",
   "execution_count": 8,
   "id": "14f7179c",
   "metadata": {},
   "outputs": [
    {
     "name": "stdout",
     "output_type": "stream",
     "text": [
      "[5, 4, 3]\n"
     ]
    }
   ],
   "source": [
    "test_list = [x for x in range(5, 2, -1)]\n",
    "print(test_list)"
   ]
  },
  {
   "cell_type": "code",
   "execution_count": 5,
   "id": "ca0c538d",
   "metadata": {},
   "outputs": [
    {
     "name": "stdout",
     "output_type": "stream",
     "text": [
      "[2, 3, 5, 6, 7, 8, 10, 12, 13, 15, 18, 19, 20, 23, 24, 26, 28, 29, 31, 32, 37, 38, 40, 43, 45, 48, 50, 51, 52, 58, 59, 60, 61, 63, 65, 66, 72, 73, 75, 76, 77, 78, 80, 82, 87, 89, 92, 94, 95, 96, 97]\n"
     ]
    }
   ],
   "source": [
    "from math import sqrt\n",
    "# LC(list comprehension)을 활용하여 아래와 같이 100까지의 수 중 제곱수가 아닌 수를 찾을 수 있다.\n",
    "non_squares = [x for x in range(101) if sqrt(x) ** 2 != x]\n",
    "print(non_squares)"
   ]
  },
  {
   "cell_type": "code",
   "execution_count": 6,
   "id": "141446a6",
   "metadata": {},
   "outputs": [
    {
     "name": "stdout",
     "output_type": "stream",
     "text": [
      "{'math': 90, 'history': 80, 'english': 95, 'computer engineering': 100}\n",
      "{'math': 90, 'history': 80, 'english': 95, 'computer engineering': 100}\n"
     ]
    }
   ],
   "source": [
    "# 두 리스트를 하나의 dict로 합치는 DC. 하나는 key, 또 다른 하나는 value로 사용한다\n",
    "subjects = ['math', 'history', 'english', 'computer engineering']\n",
    "scores = [90, 80, 95, 100]\n",
    "score_dict = {key: value for key, value in zip(subjects, scores)}\n",
    "# {'math': 90, 'history': 80, 'english': 95, 'computer engineering': 100}\n",
    "print(score_dict)\n",
    "\n",
    "# 튜플 리스트를 dict 형태로 변환하는 DC\n",
    "score_tuples = [('math', 90), ('history', 80), ('english', 95), ('computer engineering', 100)]\n",
    "score_dict = {t[0]: t[1] for t in score_tuples}\n",
    "print(score_dict)"
   ]
  },
  {
   "cell_type": "markdown",
   "id": "ac37bc0c",
   "metadata": {},
   "source": [
    "### 4.1 연습문제\n",
    "    컴퓨터와 스무고개 게임을 하는 프로그램을 만들어봅시다.\n",
    "    우선 컴퓨터가 저장할 숫자를 1~100 범위로 랜덤으로 생성해 저장하고, 게이머에게 입력 받은 숫자를 판별하여\n",
    "    up, down, correct를 출력하는 프로그램입니다.\n",
    "    게임 횟수는 총 10회이며, 10회 동안 정답을 못맞추는 경우 fail문구를 출력합니다."
   ]
  },
  {
   "cell_type": "code",
   "execution_count": 2,
   "id": "4f698ed2",
   "metadata": {},
   "outputs": [
    {
     "name": "stdout",
     "output_type": "stream",
     "text": [
      "35\n",
      "예측값을 입력하세요 :100\n",
      "down\n",
      "예측값을 입력하세요 :50\n",
      "down\n",
      "예측값을 입력하세요 :25\n",
      "up\n",
      "예측값을 입력하세요 :35\n",
      "correct!!\n"
     ]
    }
   ],
   "source": [
    "import random\n",
    "\n",
    "answer = random.randrange(1, 100)\n",
    "#print(answer)\n",
    "correct = False\n",
    "\n",
    "tmp = 0\n",
    "for i in range(10):\n",
    "    tmp = int(input(\"예측값을 입력하세요 :\"))\n",
    "    \n",
    "    if(tmp < answer):\n",
    "        print(\"up\")\n",
    "    elif(tmp > answer):\n",
    "        print(\"down\")\n",
    "    else:\n",
    "        print('correct!!')\n",
    "        correct = True\n",
    "        break\n",
    "\n",
    "if(correct != True):\n",
    "    print(\"you fail!!\")"
   ]
  },
  {
   "cell_type": "markdown",
   "id": "9a75d2f7",
   "metadata": {},
   "source": [
    "### 4-2. 연습문제\n",
    "    간단한 ATM기 시스템을 만들어봅시다.\n",
    "    \n",
    "    우선 사용자로부터 메뉴를 입력받습니다.\n",
    "    1. 입금\n",
    "    2. 출금\n",
    "    3. 잔액확인\n",
    "    4. 종료\n",
    "    \n",
    "    입력받은 메뉴에 따라 계좌의 잔액에 입금과 출금을 적용하고 잔액을 출력해봅시다.\n",
    "    종료메뉴는 whlie문을 빠져나오도록 구현해 프로그램을 종료시킵니다."
   ]
  },
  {
   "cell_type": "code",
   "execution_count": 2,
   "id": "cb3b8bf0",
   "metadata": {},
   "outputs": [
    {
     "name": "stdout",
     "output_type": "stream",
     "text": [
      "-------------------------\n",
      "1. 입금\n",
      "2. 출금\n",
      "3. 잔액 확인\n",
      "4. 종료\n",
      "-------------------------\n",
      "거래용무를 입력하세요: 1\n",
      "입금 금액을 입력하세요 :1000\n",
      "거래 후 잔고는 101000원 입니다.\n",
      "-------------------------\n",
      "1. 입금\n",
      "2. 출금\n",
      "3. 잔액 확인\n",
      "4. 종료\n",
      "-------------------------\n",
      "거래용무를 입력하세요: 2\n",
      "출금 금액을 입력하세요 :10000\n",
      "거래 후 잔고는 91000원 입니다.\n",
      "-------------------------\n",
      "1. 입금\n",
      "2. 출금\n",
      "3. 잔액 확인\n",
      "4. 종료\n",
      "-------------------------\n",
      "거래용무를 입력하세요: 3\n",
      "현재 잔고는 91000원 입니다.\n",
      "-------------------------\n",
      "1. 입금\n",
      "2. 출금\n",
      "3. 잔액 확인\n",
      "4. 종료\n",
      "-------------------------\n",
      "거래용무를 입력하세요: 4\n",
      "안녕히가세요!\n"
     ]
    }
   ],
   "source": [
    "change = 100000\n",
    "\n",
    "while True:\n",
    "    print('-'*25)\n",
    "    print('1. 입금')\n",
    "    print('2. 출금')\n",
    "    print('3. 잔액 확인')\n",
    "    print('4. 종료')\n",
    "    print('-'*25)\n",
    "    option = int(input('거래용무를 입력하세요: '))\n",
    "    \n",
    "    if option == 1:\n",
    "        money = int(input('입금 금액을 입력하세요 :'))\n",
    "        change += money\n",
    "        print('거래 후 잔고는 {}원 입니다.' .format(change))\n",
    "    elif option == 2:\n",
    "        money = int(input('출금 금액을 입력하세요 :'))\n",
    "        change -= money\n",
    "        print('거래 후 잔고는 {}원 입니다.' .format(change))\n",
    "    elif option == 3:\n",
    "        print('현재 잔고는 {}원 입니다.' .format(change))\n",
    "    elif option == 4:        \n",
    "        print('안녕히가세요!')\n",
    "        break\n",
    "    else :\n",
    "        print('wrong option. please type again')\n"
   ]
  },
  {
   "cell_type": "markdown",
   "id": "88f06081",
   "metadata": {},
   "source": [
    "## 5. try, except (오류 처리 혹은 예외 처리)\n",
    "    try, except 구문은 오류가 발생 가능성이 있는 구문을 처리하거나\n",
    "    반드시 오류가 발생하는 구문을 감싸 정상적인 프로그램 흐름이 이어질 수 있도록 처리하는 예외처리 구문입니다.\n",
    "    \n",
    "    try:\n",
    "        [처리하고 싶은 코드]\n",
    "    except:\n",
    "        [try로 처리하지 못한 작업을 처리하기 위한 코드]"
   ]
  },
  {
   "cell_type": "code",
   "execution_count": 3,
   "id": "1300cd3f",
   "metadata": {},
   "outputs": [
    {
     "name": "stdout",
     "output_type": "stream",
     "text": [
      "list index out of range\n"
     ]
    }
   ],
   "source": [
    "# 아래와 같은 방식으로 ZeroDivisionError, IndexError error를 처리해줄 수 있습니다.\n",
    "try:\n",
    "    a = [1,2]\n",
    "    print(a[3])\n",
    "    4/0\n",
    "except ZeroDivisionError as e:\n",
    "    print(e)\n",
    "except IndexError as e:\n",
    "    print(e)"
   ]
  },
  {
   "cell_type": "code",
   "execution_count": 4,
   "id": "6b62d394",
   "metadata": {},
   "outputs": [
    {
     "name": "stdout",
     "output_type": "stream",
     "text": [
      "list index out of range\n"
     ]
    }
   ],
   "source": [
    "# 다음과 같은 방식으로 여러 error를 동시에 처리할 수도 있습니다.\n",
    "try:\n",
    "    a = [1, 2]\n",
    "    print(a[3])\n",
    "    4/0\n",
    "except (ZeroDivisionError, IndexError) as e:\n",
    "    print(e)"
   ]
  },
  {
   "cell_type": "code",
   "execution_count": null,
   "id": "f09af9e7",
   "metadata": {},
   "outputs": [],
   "source": []
  }
 ],
 "metadata": {
  "kernelspec": {
   "display_name": "Python 3",
   "language": "python",
   "name": "python3"
  },
  "language_info": {
   "codemirror_mode": {
    "name": "ipython",
    "version": 3
   },
   "file_extension": ".py",
   "mimetype": "text/x-python",
   "name": "python",
   "nbconvert_exporter": "python",
   "pygments_lexer": "ipython3",
   "version": "3.8.8"
  }
 },
 "nbformat": 4,
 "nbformat_minor": 5
}
