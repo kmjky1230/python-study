{
 "cells": [
  {
   "cell_type": "markdown",
   "id": "8169c8af",
   "metadata": {},
   "source": [
    "## **Python은 무엇을 위한 언어인가??**\n",
    "    초기 python은 과학, 수학 연구용으로 사용되었다. 이후에는 web 페이지 제작으로 사용되는 등 각광받게 되었다.\n",
    "    현재는 데이터 분석 및 어플리케이션 제작으로도 사용된다. 이 뿐 아니라 다양한 목적으로 사용 가능하다.\n",
    "    \n",
    "## **왜 빅데이터를 다루는데 Python을 사용하는가?**\n",
    "    대용량 데이터를 다루기 위한 연산을 쉽고 빠르게 가능하도록 브로드캐스팅을 지원한다.\n",
    "    운영체제를 가리지 않는다.\n",
    "    오픈소스 라이브러리가 잘 갖추어져있어 실제 서비스를 구현하는데 필요한 수고가 적다.\n",
    "    웹, 어플리케이션 등 다양한 형태의 output 제작 가능하다.\n"
   ]
  },
  {
   "cell_type": "markdown",
   "id": "dfaf641a",
   "metadata": {},
   "source": [
    "### 1. 출력\n",
    "    print() 함수는 python의 기본 명령어로서 출력을 위한 명령어입니다. print() 안에 출력할 인자를 넣어주면 해당 내용을\n",
    "    출력해줍니다. 소괄호 안에 들어가는 인자는 숫자, 따옴표(', \", \"', '\")로 감싼 문자, 변수만이 가능합니다."
   ]
  },
  {
   "cell_type": "code",
   "execution_count": 1,
   "id": "5cf88171",
   "metadata": {},
   "outputs": [
    {
     "name": "stdout",
     "output_type": "stream",
     "text": [
      "Hello Python\n"
     ]
    }
   ],
   "source": [
    "print(\"Hello Python\")"
   ]
  },
  {
   "cell_type": "code",
   "execution_count": 6,
   "id": "33480fc7",
   "metadata": {},
   "outputs": [
    {
     "name": "stdout",
     "output_type": "stream",
     "text": [
      "My name is KangDongHun\n",
      "My name is KangDongHun\n",
      "My name is \"KangDongHun\"\n"
     ]
    }
   ],
   "source": [
    "print(\"My name is KangDongHun\")\n",
    "print('My name is KangDongHun')\n",
    "print('My name is \"KangDongHun\"')"
   ]
  },
  {
   "cell_type": "code",
   "execution_count": 3,
   "id": "15efc80d",
   "metadata": {},
   "outputs": [
    {
     "name": "stdout",
     "output_type": "stream",
     "text": [
      "4\n"
     ]
    }
   ],
   "source": [
    "print(4)"
   ]
  },
  {
   "cell_type": "code",
   "execution_count": 5,
   "id": "f9e3ea4f",
   "metadata": {},
   "outputs": [
    {
     "name": "stdout",
     "output_type": "stream",
     "text": [
      "5\n",
      "Hello world!!\n"
     ]
    }
   ],
   "source": [
    "a = 5\n",
    "print(a)\n",
    "a = \"Hello world!!\"\n",
    "print(a)"
   ]
  },
  {
   "cell_type": "code",
   "execution_count": 9,
   "id": "c92555e4",
   "metadata": {},
   "outputs": [
    {
     "name": "stdout",
     "output_type": "stream",
     "text": [
      "안녕하세요\n",
      "안녕하세요\n",
      "안녕하세요\n",
      "안녕하세요\n",
      "안녕하세요\n",
      "안녕하세요\n",
      "안녕하세요\n",
      "안녕하세요\n",
      "안녕하세요\n",
      "\n"
     ]
    }
   ],
   "source": [
    "# string을 곱셈하여 여러번 출력하도록 할 수도 있다.\n",
    "print(\"안녕하세요\\n\" * 9)"
   ]
  },
  {
   "cell_type": "code",
   "execution_count": 16,
   "id": "499ee212",
   "metadata": {},
   "outputs": [
    {
     "name": "stdout",
     "output_type": "stream",
     "text": [
      "         Receipt\n",
      "-------------------------\n",
      "ice americano   4,500 won\n",
      "cafe latte      4,500 won\n",
      "cheese cake     4.500 won\n",
      "-------------------------\n",
      "total          15,000 won\n",
      "\n",
      "Thank you for comming\n",
      "See you next time\n",
      "-------------------------\n"
     ]
    }
   ],
   "source": [
    "# 영수증 example\n",
    "print(' ' * 9 + 'Receipt')\n",
    "print('-' * 25)\n",
    "print('ice americano   4,500 won')\n",
    "print('cafe latte      4,500 won')\n",
    "print('cheese cake     4.500 won')\n",
    "print('-' * 25)\n",
    "print('total          15,000 won\\n')\n",
    "print('Thank you for comming')\n",
    "print('See you next time')\n",
    "print('-' * 25)"
   ]
  },
  {
   "cell_type": "markdown",
   "id": "22cfdc67",
   "metadata": {},
   "source": [
    "### 2. 저장\n",
    "    컴퓨터에 데이터를 저장하기 위해서 우리는 변수(variable)를 사용합니다. 변수는 말그대로 변할 수 있는 대상을 의미합니다.\n",
    "    저장한 데이터를 다시 사용하기 위해 변수를 사용합니다."
   ]
  },
  {
   "cell_type": "markdown",
   "id": "da4d477e",
   "metadata": {},
   "source": [
    "### 변수의 용도\n",
    "    1. 저장\n",
    "    2. 연산의 피연산자\n",
    "    3. 함수의 매개변수\n",
    "    "
   ]
  },
  {
   "cell_type": "markdown",
   "id": "d3515daa",
   "metadata": {},
   "source": [
    "### 변수의 종류(type) : 변수에 저장할 값의 종류\n",
    "    정수 int\n",
    "    실수 float\n",
    "    문자열 string\n",
    "    불대수 bool\n",
    "    함수 function\n",
    "    객체 object"
   ]
  },
  {
   "cell_type": "markdown",
   "id": "da838fa2",
   "metadata": {},
   "source": [
    "### 변수(값)의 형변환 (Type casting)\n",
    "    문자 -> 숫자\n",
    "    숫자 -> 문자"
   ]
  },
  {
   "cell_type": "code",
   "execution_count": 17,
   "id": "4c6da86a",
   "metadata": {},
   "outputs": [],
   "source": [
    "# 아래의 예시와 같이 변수에 값을 저장, 할당, binding 할 수 있습니다.\n",
    "\n",
    "height = 183\n",
    "weight = 75\n",
    "name = \"강동훈\"\n",
    "job = \"대학생\""
   ]
  },
  {
   "cell_type": "code",
   "execution_count": 19,
   "id": "74e48e00",
   "metadata": {},
   "outputs": [
    {
     "name": "stdout",
     "output_type": "stream",
     "text": [
      "숫자를 입력하세요!4\n",
      "4\n"
     ]
    }
   ],
   "source": [
    "# 사용자의 입력을 받아 변수에 입력하는 예시\n",
    "user_input = input(\"숫자를 입력하세요!\")\n",
    "print(user_input)"
   ]
  },
  {
   "cell_type": "markdown",
   "id": "b43f926a",
   "metadata": {},
   "source": [
    "## 3. 변수 이름짓기 (식별자 규칙)\n",
    "#### 변수는 데이터를 식별할 수 있는 단어가 좋습니다. naming에 꽤 오랜 시간을 소모한다고 합니다.\n",
    "\n",
    "    1. 변수 사용 문법규칙\n",
    "    - 대소문자 구분 A != a (case sensitive)\n",
    "    - 한글 사용이 가능?? (not recommended)\n",
    "    - 띄어 쓰기 허용 x\n",
    "    - 특수문자는 _(under bar)만 가능하다.\n",
    "    - 숫자 포함이 가능하지만, 숫자로 시작하는 변수명은 x\n",
    "    - 예약어는 금지 (문법 용어나 특수한 단어는 변수명으로 사용금지)\n",
    "    \n",
    "    2. 관례적 규칙\n",
    "    - 동사, 명사\n",
    "    - 형용사 금지\n",
    "    - 표기법 (범위 -한 파일 혹은 -한 프로그램)\n",
    "    a) 낙타 myNaemis - 함수 이름\n",
    "    b) 파스칼 myNameis - 클래스 이름\n",
    "    c) 스네이크 my_name_is - 변수명\n",
    "    d) 헝가리안 strMynameis"
   ]
  },
  {
   "cell_type": "code",
   "execution_count": 21,
   "id": "fc8f0842",
   "metadata": {},
   "outputs": [
    {
     "ename": "SyntaxError",
     "evalue": "invalid syntax (<ipython-input-21-437d6910f4ed>, line 6)",
     "output_type": "error",
     "traceback": [
      "\u001b[1;36m  File \u001b[1;32m\"<ipython-input-21-437d6910f4ed>\"\u001b[1;36m, line \u001b[1;32m6\u001b[0m\n\u001b[1;33m    and exec() not\u001b[0m\n\u001b[1;37m    ^\u001b[0m\n\u001b[1;31mSyntaxError\u001b[0m\u001b[1;31m:\u001b[0m invalid syntax\n"
     ]
    }
   ],
   "source": [
    "# python 예약어들\n",
    "# 예약어는 앞서 말했듯 변수명 or 함수명으로 사용할 수 없습니다.\n",
    "# 예약어들을 작성 시 초록색 반전이 발생합니다.\n",
    "# python에서 특정 작동을 위해 미리 선정해둔 키워드들\n",
    "\n",
    "and exec() not\n",
    "assert finally or\n",
    "break for pass\n",
    "class from print()\n",
    "continue global raise\n",
    "def if return\n",
    "del import try\n",
    "elif in while\n",
    "else is with\n",
    "except lambda yield"
   ]
  },
  {
   "cell_type": "markdown",
   "id": "2cd79e9f",
   "metadata": {},
   "source": [
    "## 4-1. 사칙연산\n",
    "    +, -, *, /, **, //\n",
    "    더하기, 빼기, 곱하기, 나누기, 거듭제곱, 몫"
   ]
  },
  {
   "cell_type": "code",
   "execution_count": 23,
   "id": "92456a97",
   "metadata": {},
   "outputs": [
    {
     "name": "stdout",
     "output_type": "stream",
     "text": [
      "13\n",
      "7\n",
      "30\n",
      "3.3333333333333335\n",
      "1000\n",
      "3\n"
     ]
    }
   ],
   "source": [
    "a = 10\n",
    "b = 3\n",
    "print(a + b) # 더하기\n",
    "print(a - b) # 빼기\n",
    "print(a * b) # 곱하기\n",
    "print(a / b) # 나누기\n",
    "print(a ** b) # 거듭제곱\n",
    "print(a // b) # 몫 구하기"
   ]
  },
  {
   "cell_type": "code",
   "execution_count": 27,
   "id": "0f364540",
   "metadata": {},
   "outputs": [
    {
     "name": "stdout",
     "output_type": "stream",
     "text": [
      "강동훈 대학생\n",
      "강동훈강동훈강동훈강동훈강동훈강동훈강동훈강동훈강동훈강동훈 대학생\n"
     ]
    }
   ],
   "source": [
    "# 앞서 정의한 string의 연산은??\n",
    "print(name + ' ' + job)\n",
    "print(name * 10 + ' ' + job)"
   ]
  },
  {
   "cell_type": "code",
   "execution_count": 32,
   "id": "7e74e935",
   "metadata": {},
   "outputs": [
    {
     "name": "stdout",
     "output_type": "stream",
     "text": [
      "당신의 bmi 지수는 325.0 입니다.\n"
     ]
    }
   ],
   "source": [
    "# bmi를 계산하여 출력하는 간단한 프로그램 example\n",
    "# bmi 지수 = 신장 / ((몸무게 / 100) ^ 2)\n",
    "bmi = height // ((weight / 100) ** 2)\n",
    "print(\"당신의 bmi 지수는 {} 입니다.\" .format(bmi))"
   ]
  },
  {
   "cell_type": "code",
   "execution_count": 39,
   "id": "4bcfe145",
   "metadata": {},
   "outputs": [
    {
     "name": "stdout",
     "output_type": "stream",
     "text": [
      "10년 후 원리금은 6719581.8967206115원 입니다!\n"
     ]
    }
   ],
   "source": [
    "# 원금 5,000,000원을 3% 연이자로 예금했을 때 10년 후 원리금의 합은?\n",
    "# 이자는 매년 계산하여 원리금에 합산\n",
    "# 계산식 = 원금 * (1 + 이자) ^ 년수\n",
    "# 변수를 사용\n",
    "# 원금 origin으로 정의\n",
    "# 이자 interest로 정의\n",
    "# 년수 year로 정의\n",
    "origin = 5000000\n",
    "interest = 0.03\n",
    "year = 10\n",
    "future_money = origin\n",
    "future_money = future_money * ((1 + interest) ** year)\n",
    "\n",
    "print(\"10년 후 원리금은 {}원 입니다!\" .format(future_money))"
   ]
  },
  {
   "cell_type": "markdown",
   "id": "3d6f97a4",
   "metadata": {},
   "source": [
    "## 4-2. 사칙연산을 포함한 출력의 여러가지 방법"
   ]
  },
  {
   "cell_type": "code",
   "execution_count": 45,
   "id": "a553b07e",
   "metadata": {},
   "outputs": [
    {
     "name": "stdout",
     "output_type": "stream",
     "text": [
      "강동훈의 키는183cm이고 몸무게는 75kg입니다. 직업은 대학생입니다!\n"
     ]
    }
   ],
   "source": [
    "# +를 이용해 바로 출력이 되지 않는 int or float 형 data는 .str()로 type casting 후 사용 가능하다.\n",
    "print(name + '의 키는' + str(height) + 'cm이고 몸무게는 ' + str(weight) + 'kg입니다. 직업은 ' + job + '입니다!')"
   ]
  },
  {
   "cell_type": "code",
   "execution_count": 46,
   "id": "a8d64471",
   "metadata": {},
   "outputs": [
    {
     "name": "stdout",
     "output_type": "stream",
     "text": [
      "강동훈의 키는 183cm 이고, 몸무게는 75kg 입니다. 직업은 대학생입니다!!\n"
     ]
    }
   ],
   "source": [
    "# 변수로 사용하고자 하는 위치에 {}로 감싼 후 format을 이용하여 변수를 알려주는 방법\n",
    "print('{}의 키는 {}cm 이고, 몸무게는 {}kg 입니다. 직업은 {}입니다!!' .format(name, height, weight, job))"
   ]
  },
  {
   "cell_type": "code",
   "execution_count": 47,
   "id": "143a9101",
   "metadata": {},
   "outputs": [
    {
     "name": "stdout",
     "output_type": "stream",
     "text": [
      "강동훈의 키는 183cm이고 몸무게는 75kg입니다. 직업은 대학생입니다.\n"
     ]
    }
   ],
   "source": [
    "# format string 이라는 특수한 형태의 텍스트를 사용하는 방법\n",
    "print(f'{name}의 키는 {height}cm이고 몸무게는 {weight}kg입니다. 직업은 {job}입니다.')"
   ]
  },
  {
   "cell_type": "markdown",
   "id": "93fc1652",
   "metadata": {},
   "source": [
    "## 5. 조건 연산\n",
    "    and, or, in, ==, !=\n",
    "    동시충족, 조건충족, 보유여부, 같은값, 다른값\n",
    "    \n",
    "    bool type\n",
    "    true or false인지 True, False로 구분 가능한 data type"
   ]
  },
  {
   "cell_type": "code",
   "execution_count": 49,
   "id": "a8101495",
   "metadata": {},
   "outputs": [
    {
     "name": "stdout",
     "output_type": "stream",
     "text": [
      "False\n",
      "False\n",
      "True\n",
      "(1, 2)\n",
      "(1, 2, 3)\n"
     ]
    }
   ],
   "source": [
    "print(1 == 2)\n",
    "print(1 != 1)\n",
    "print('안녕하세요' == '안녕하세요')\n",
    "# 중복되는 값을 출력\n",
    "print((1, 2, 3) and (1, 2))\n",
    "# 하나라도 있는 값을 모두 출력한다.\n",
    "print((1, 2, 3) or (1, 2))"
   ]
  },
  {
   "cell_type": "code",
   "execution_count": null,
   "id": "0eb0e72a",
   "metadata": {},
   "outputs": [],
   "source": []
  }
 ],
 "metadata": {
  "kernelspec": {
   "display_name": "Python 3",
   "language": "python",
   "name": "python3"
  },
  "language_info": {
   "codemirror_mode": {
    "name": "ipython",
    "version": 3
   },
   "file_extension": ".py",
   "mimetype": "text/x-python",
   "name": "python",
   "nbconvert_exporter": "python",
   "pygments_lexer": "ipython3",
   "version": "3.8.8"
  }
 },
 "nbformat": 4,
 "nbformat_minor": 5
}
