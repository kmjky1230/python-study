{
 "cells": [
  {
   "cell_type": "markdown",
   "id": "aa4b65cf",
   "metadata": {},
   "source": [
    "# Pandas\n",
    "    데이터 과학자를위해 table 형태로 데이터를 다룰 수 있도록 해주는 package입니다. (python 전용 excel)\n",
    "    기존 데이터처리 라이브러리인 numpy 대신 주로 사용합니다.\n",
    "    \n",
    "    일반인이 데이터분석을 접하기 쉽게 만들어준데 결정적인 역할을 한 library로 pandas 만으로도 충분히\n",
    "    데이터 분석이 가능할 정도로 고수준의 함수들을 내장하고 있습니다.\n",
    "    \n",
    "    앞으로 진행하는 데이터 분석 과정에서 주로 사용할 data structure입니다."
   ]
  },
  {
   "cell_type": "markdown",
   "id": "c170fdab",
   "metadata": {},
   "source": [
    "## 1. pandas 설치\n",
    "    console 창에서 설치하는 경우\n",
    "    pip install pandas\n",
    "    \n",
    "    jupyter notebook에서 실행하는 경우 (!를 붙여서 terminal 명령어를 사용가능한 듯 하다.)\n",
    "    !pp install pandas\n",
    "    \n",
    "    anaconda 환경으로 python environment 설정하는 경우 기존에 설치가 되어있습니다."
   ]
  },
  {
   "cell_type": "code",
   "execution_count": 1,
   "id": "80239d8b",
   "metadata": {},
   "outputs": [],
   "source": [
    "# pandas install\n",
    "# !pip install pandas"
   ]
  },
  {
   "cell_type": "code",
   "execution_count": 3,
   "id": "e95d4f5e",
   "metadata": {},
   "outputs": [],
   "source": [
    "# 습관적으로 import\n",
    "import numpy as np\n",
    "# pandas package 또한 import\n",
    "import pandas as pd\n",
    "# numpy의 np처럼 pandas 또한 pd로 관례적으로 많이 사용한다고 합니다. 되도록 위와 같이 사용하도록 합시다!\n",
    "\n",
    "# 불러들이는 data에 맞춰 모든 칼럼을 확인 가능하도록 옵션값을 주었습니다.\n",
    "pd.options.display.max_columns = 200\n",
    "#이해를 못하더라도 그냥 실행해봅시다!\n",
    "pd.options.display.max_info_columns = 200"
   ]
  },
  {
   "cell_type": "markdown",
   "id": "9b60a275",
   "metadata": {},
   "source": [
    "## 2. DataFrame\n",
    "    excel에 익숙한 사용자를 위해 제작된 table형태의 데이터 구조입니다.\n",
    "    다양한 형태의 데이터를 받아 사용할 수 있으며 다양한 통계, 시각화 함수를 제공합니다.\n",
    "    \n",
    "    다음으로는 실제 데이터를 불러들이고 값을 확인해보며 기본적인 pandas 사용법을 익혀보겠습니다."
   ]
  },
  {
   "cell_type": "markdown",
   "id": "c65c1ed2",
   "metadata": {},
   "source": [
    "### 2-1. Data 불러오기\n",
    "    pandas는 다양한 데이터 파일 형태를 지원하며 주로 csv, xlsx, sql을 사용합니다.\n",
    "    \n",
    "    read_csv()\n",
    "    read_excel()\n",
    "    read_sql()"
   ]
  },
  {
   "cell_type": "code",
   "execution_count": 4,
   "id": "ee584fb3",
   "metadata": {},
   "outputs": [
    {
     "name": "stdout",
     "output_type": "stream",
     "text": [
      " C 드라이브의 볼륨에는 이름이 없습니다.\n",
      " 볼륨 일련 번호: C008-7521\n",
      "\n",
      " C:\\Users\\actgo\\Documents\\GitHub\\python-study\\pytohn basic 디렉터리\n",
      "\n",
      "2021-09-23  오전 12:03    <DIR>          .\n",
      "2021-09-23  오전 12:03    <DIR>          ..\n",
      "2021-09-22  오후 11:40    <DIR>          .ipynb_checkpoints\n",
      "2021-09-19  오전 01:43            14,577 01.python_basic.ipynb\n",
      "2021-09-20  오전 12:11            13,545 02.python_sequence.ipynb\n",
      "2021-09-20  오후 09:41            34,184 03.python_controlflow.ipynb\n",
      "2021-09-21  오후 11:49            23,007 04.python_function_and_class.ipynb\n",
      "2021-09-22  오후 11:39            54,568 05.python_numpy.ipynb\n",
      "2021-09-23  오전 12:03             2,998 06.python_pandas.ipynb\n",
      "               6개 파일             142,879 바이트\n",
      "               3개 디렉터리  276,818,952,192 바이트 남음\n"
     ]
    }
   ],
   "source": [
    "!dir"
   ]
  },
  {
   "cell_type": "code",
   "execution_count": 6,
   "id": "14a8fef6",
   "metadata": {},
   "outputs": [
    {
     "name": "stdout",
     "output_type": "stream",
     "text": [
      "Wall time: 76.5 ms\n"
     ]
    }
   ],
   "source": [
    "%%time\n",
    "# DataFrame의 약자로서 형식적으로 df 변수명을 사용합니다.\n",
    "# pandas package의 read_csv() 함수를 사용하여 loan.csv 파일을 불러들여 dataframe을 만들고 df 이름의 변수로 저장합니다.\n",
    "\n",
    "# jupyter notebook 및 colab 경로 설정 방법\n",
    "df = pd.read_csv('./1.csv')"
   ]
  },
  {
   "cell_type": "code",
   "execution_count": 7,
   "id": "097f7041",
   "metadata": {
    "scrolled": true
   },
   "outputs": [
    {
     "data": {
      "text/html": [
       "<div>\n",
       "<style scoped>\n",
       "    .dataframe tbody tr th:only-of-type {\n",
       "        vertical-align: middle;\n",
       "    }\n",
       "\n",
       "    .dataframe tbody tr th {\n",
       "        vertical-align: top;\n",
       "    }\n",
       "\n",
       "    .dataframe thead th {\n",
       "        text-align: right;\n",
       "    }\n",
       "</style>\n",
       "<table border=\"1\" class=\"dataframe\">\n",
       "  <thead>\n",
       "    <tr style=\"text-align: right;\">\n",
       "      <th></th>\n",
       "      <th>Address</th>\n",
       "      <th>Lot</th>\n",
       "      <th>AM or PM</th>\n",
       "      <th>Browser Info</th>\n",
       "      <th>Company</th>\n",
       "      <th>Credit Card</th>\n",
       "      <th>CC Exp Date</th>\n",
       "      <th>CC Security Code</th>\n",
       "      <th>CC Provider</th>\n",
       "      <th>Email</th>\n",
       "      <th>Job</th>\n",
       "      <th>IP Address</th>\n",
       "      <th>Language</th>\n",
       "      <th>Purchase Price</th>\n",
       "    </tr>\n",
       "  </thead>\n",
       "  <tbody>\n",
       "    <tr>\n",
       "      <th>9995</th>\n",
       "      <td>966 Castaneda Locks\\nWest Juliafurt, CO 96415</td>\n",
       "      <td>92 XI</td>\n",
       "      <td>PM</td>\n",
       "      <td>Mozilla/5.0 (Windows NT 5.1) AppleWebKit/5352 ...</td>\n",
       "      <td>Randall-Sloan</td>\n",
       "      <td>342945015358701</td>\n",
       "      <td>03/22</td>\n",
       "      <td>838</td>\n",
       "      <td>JCB 15 digit</td>\n",
       "      <td>iscott@wade-garner.com</td>\n",
       "      <td>Printmaker</td>\n",
       "      <td>29.73.197.114</td>\n",
       "      <td>it</td>\n",
       "      <td>82.21</td>\n",
       "    </tr>\n",
       "    <tr>\n",
       "      <th>9996</th>\n",
       "      <td>832 Curtis Dam Suite 785\\nNorth Edwardburgh, T...</td>\n",
       "      <td>41 JY</td>\n",
       "      <td>AM</td>\n",
       "      <td>Mozilla/5.0 (compatible; MSIE 9.0; Windows NT ...</td>\n",
       "      <td>Hale, Collins and Wilson</td>\n",
       "      <td>210033169205009</td>\n",
       "      <td>07/25</td>\n",
       "      <td>207</td>\n",
       "      <td>JCB 16 digit</td>\n",
       "      <td>mary85@hotmail.com</td>\n",
       "      <td>Energy engineer</td>\n",
       "      <td>121.133.168.51</td>\n",
       "      <td>pt</td>\n",
       "      <td>25.63</td>\n",
       "    </tr>\n",
       "    <tr>\n",
       "      <th>9997</th>\n",
       "      <td>Unit 4434 Box 6343\\nDPO AE 28026-0283</td>\n",
       "      <td>74 Zh</td>\n",
       "      <td>AM</td>\n",
       "      <td>Mozilla/5.0 (Macintosh; U; Intel Mac OS X 10_7...</td>\n",
       "      <td>Anderson Ltd</td>\n",
       "      <td>6011539787356311</td>\n",
       "      <td>05/21</td>\n",
       "      <td>1</td>\n",
       "      <td>VISA 16 digit</td>\n",
       "      <td>tyler16@gmail.com</td>\n",
       "      <td>Veterinary surgeon</td>\n",
       "      <td>156.210.0.254</td>\n",
       "      <td>el</td>\n",
       "      <td>83.98</td>\n",
       "    </tr>\n",
       "    <tr>\n",
       "      <th>9998</th>\n",
       "      <td>0096 English Rest\\nRoystad, IA 12457</td>\n",
       "      <td>74 cL</td>\n",
       "      <td>PM</td>\n",
       "      <td>Mozilla/5.0 (Macintosh; Intel Mac OS X 10_8_8;...</td>\n",
       "      <td>Cook Inc</td>\n",
       "      <td>180003348082930</td>\n",
       "      <td>11/17</td>\n",
       "      <td>987</td>\n",
       "      <td>American Express</td>\n",
       "      <td>elizabethmoore@reid.net</td>\n",
       "      <td>Local government officer</td>\n",
       "      <td>55.78.26.143</td>\n",
       "      <td>es</td>\n",
       "      <td>38.84</td>\n",
       "    </tr>\n",
       "    <tr>\n",
       "      <th>9999</th>\n",
       "      <td>40674 Barrett Stravenue\\nGrimesville, WI 79682</td>\n",
       "      <td>64 Hr</td>\n",
       "      <td>AM</td>\n",
       "      <td>Mozilla/5.0 (X11; Linux i686; rv:1.9.5.20) Gec...</td>\n",
       "      <td>Greene Inc</td>\n",
       "      <td>4139972901927273</td>\n",
       "      <td>02/19</td>\n",
       "      <td>302</td>\n",
       "      <td>JCB 15 digit</td>\n",
       "      <td>rachelford@vaughn.com</td>\n",
       "      <td>Embryologist, clinical</td>\n",
       "      <td>176.119.198.199</td>\n",
       "      <td>el</td>\n",
       "      <td>67.59</td>\n",
       "    </tr>\n",
       "  </tbody>\n",
       "</table>\n",
       "</div>"
      ],
      "text/plain": [
       "                                                Address    Lot AM or PM  \\\n",
       "9995      966 Castaneda Locks\\nWest Juliafurt, CO 96415  92 XI       PM   \n",
       "9996  832 Curtis Dam Suite 785\\nNorth Edwardburgh, T...  41 JY       AM   \n",
       "9997              Unit 4434 Box 6343\\nDPO AE 28026-0283  74 Zh       AM   \n",
       "9998               0096 English Rest\\nRoystad, IA 12457  74 cL       PM   \n",
       "9999     40674 Barrett Stravenue\\nGrimesville, WI 79682  64 Hr       AM   \n",
       "\n",
       "                                           Browser Info  \\\n",
       "9995  Mozilla/5.0 (Windows NT 5.1) AppleWebKit/5352 ...   \n",
       "9996  Mozilla/5.0 (compatible; MSIE 9.0; Windows NT ...   \n",
       "9997  Mozilla/5.0 (Macintosh; U; Intel Mac OS X 10_7...   \n",
       "9998  Mozilla/5.0 (Macintosh; Intel Mac OS X 10_8_8;...   \n",
       "9999  Mozilla/5.0 (X11; Linux i686; rv:1.9.5.20) Gec...   \n",
       "\n",
       "                       Company       Credit Card CC Exp Date  \\\n",
       "9995             Randall-Sloan   342945015358701       03/22   \n",
       "9996  Hale, Collins and Wilson   210033169205009       07/25   \n",
       "9997              Anderson Ltd  6011539787356311       05/21   \n",
       "9998                  Cook Inc   180003348082930       11/17   \n",
       "9999                Greene Inc  4139972901927273       02/19   \n",
       "\n",
       "      CC Security Code       CC Provider                    Email  \\\n",
       "9995               838      JCB 15 digit   iscott@wade-garner.com   \n",
       "9996               207      JCB 16 digit       mary85@hotmail.com   \n",
       "9997                 1     VISA 16 digit        tyler16@gmail.com   \n",
       "9998               987  American Express  elizabethmoore@reid.net   \n",
       "9999               302      JCB 15 digit    rachelford@vaughn.com   \n",
       "\n",
       "                           Job       IP Address Language  Purchase Price  \n",
       "9995                Printmaker    29.73.197.114       it           82.21  \n",
       "9996           Energy engineer   121.133.168.51       pt           25.63  \n",
       "9997        Veterinary surgeon    156.210.0.254       el           83.98  \n",
       "9998  Local government officer     55.78.26.143       es           38.84  \n",
       "9999    Embryologist, clinical  176.119.198.199       el           67.59  "
      ]
     },
     "execution_count": 7,
     "metadata": {},
     "output_type": "execute_result"
    }
   ],
   "source": [
    "df.tail()"
   ]
  },
  {
   "cell_type": "code",
   "execution_count": null,
   "id": "973bc4e9",
   "metadata": {},
   "outputs": [],
   "source": [
    "%%time\n",
    "# 만약 모듈을 찾을 수 없는 오류가 발생한다면 추가 모듈을 설치합니다.\n",
    "#!pip install xlrd\n",
    "\n",
    "df = pd.read_excel('loan1.xlsx')"
   ]
  }
 ],
 "metadata": {
  "kernelspec": {
   "display_name": "Python 3",
   "language": "python",
   "name": "python3"
  },
  "language_info": {
   "codemirror_mode": {
    "name": "ipython",
    "version": 3
   },
   "file_extension": ".py",
   "mimetype": "text/x-python",
   "name": "python",
   "nbconvert_exporter": "python",
   "pygments_lexer": "ipython3",
   "version": "3.8.8"
  }
 },
 "nbformat": 4,
 "nbformat_minor": 5
}
