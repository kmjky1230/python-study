{
 "cells": [
  {
   "cell_type": "markdown",
   "id": "526ca985",
   "metadata": {},
   "source": [
    "# 자료구조\n",
    "    데이터의 집합\n",
    "    변수에 저장할 수 있는 데이터들의 집합\n",
    "    list, dictionary, tuple 등이 있습니다."
   ]
  },
  {
   "cell_type": "markdown",
   "id": "29081ea7",
   "metadata": {},
   "source": [
    "## 1. 리스트(list)\n",
    "    python에서 가장 흔히 사용하는 자료구조입니다.\n",
    "    순서가 있는 자료구조이고, [ ] 대괄호로 묶어서 사용합니다.\n",
    "    list 안의 elements는 ,(쉼표)로 구분합니다."
   ]
  },
  {
   "cell_type": "markdown",
   "id": "570e1351",
   "metadata": {},
   "source": [
    "### 1-1. list의 생성"
   ]
  },
  {
   "cell_type": "code",
   "execution_count": 10,
   "id": "4af5fd79",
   "metadata": {},
   "outputs": [
    {
     "name": "stdout",
     "output_type": "stream",
     "text": [
      "[]\n",
      "[]\n"
     ]
    }
   ],
   "source": [
    "# 두 가지 방식으로 빈 리스트를 생성 가능합니다.\n",
    "empty_list1 = list()\n",
    "empty_list2 = []\n",
    "print(empty_list1)\n",
    "print(empty_list2)"
   ]
  },
  {
   "cell_type": "code",
   "execution_count": 11,
   "id": "453264c8",
   "metadata": {},
   "outputs": [
    {
     "name": "stdout",
     "output_type": "stream",
     "text": [
      "['coin', 'card', 'cash', 'license']\n"
     ]
    }
   ],
   "source": [
    "# list type variable인 wallet에 text data들을 넣어 저장\n",
    "# 'coin', 'card', 'cash', 'license'\n",
    "\n",
    "wallet = ['coin', 'card', 'cash', 'license']\n",
    "print(wallet)"
   ]
  },
  {
   "cell_type": "code",
   "execution_count": 12,
   "id": "fb9487c4",
   "metadata": {},
   "outputs": [
    {
     "name": "stdout",
     "output_type": "stream",
     "text": [
      "[1, 2, 3.14, 'test', ['coin', 'card', 'cash', 'license']]\n"
     ]
    }
   ],
   "source": [
    "# 아래와 같이 다양한 type의 variable을 한 list에 저장할 수도 있습니다. list를 list의 element로 설정할수도 있습니다.\n",
    "test_list = [1, 2, 3.14, 'test', wallet]\n",
    "print(test_list)"
   ]
  },
  {
   "cell_type": "markdown",
   "id": "5e2ae307",
   "metadata": {},
   "source": [
    "### 1-2. list의 정보 확인"
   ]
  },
  {
   "cell_type": "code",
   "execution_count": 13,
   "id": "29b855dd",
   "metadata": {},
   "outputs": [
    {
     "data": {
      "text/plain": [
       "5"
      ]
     },
     "execution_count": 13,
     "metadata": {},
     "output_type": "execute_result"
    }
   ],
   "source": [
    "# list의 전체 항목의 개수를 출력하는 방법\n",
    "len(test_list)"
   ]
  },
  {
   "cell_type": "code",
   "execution_count": 14,
   "id": "43cca578",
   "metadata": {},
   "outputs": [
    {
     "data": {
      "text/plain": [
       "1"
      ]
     },
     "execution_count": 14,
     "metadata": {},
     "output_type": "execute_result"
    }
   ],
   "source": [
    "# list 내 특정 항목의 갯수를 확인하는 방법\n",
    "test_list.count('test')"
   ]
  },
  {
   "cell_type": "code",
   "execution_count": 15,
   "id": "ea9fd010",
   "metadata": {},
   "outputs": [
    {
     "name": "stdout",
     "output_type": "stream",
     "text": [
      "max : 2351, min = 1\n"
     ]
    }
   ],
   "source": [
    "# 최대값 or 최소값\n",
    "test_list2 = [1, 23, 24, 4, 235, 2351]\n",
    "print(\"max : {}, min = {}\" .format(max(test_list2), min(test_list2)))"
   ]
  },
  {
   "cell_type": "markdown",
   "id": "f74909e0",
   "metadata": {},
   "source": [
    "### 1-3. list indexing, slicing\n",
    "    리스트의 특정 index의 element를 확인하는 방법\n",
    "    indexing은 한 개의 element, slicing은 여러 개의 element\n",
    "    list의 순서를 index라고 하며 0부터 시작합니다."
   ]
  },
  {
   "cell_type": "code",
   "execution_count": 16,
   "id": "4b07d78a",
   "metadata": {},
   "outputs": [
    {
     "name": "stdout",
     "output_type": "stream",
     "text": [
      "4\n",
      "[4, 235, 2351]\n",
      "2351\n",
      "[1, 24, 235]\n",
      "cash\n"
     ]
    }
   ],
   "source": [
    "# indexing (4th element)\n",
    "print(test_list2[3])\n",
    "# slicing (4 ~ last element), slicing의 return 값은 list type이다.\n",
    "print(test_list2[3:])\n",
    "# get last element\n",
    "print(test_list2[-1])\n",
    "# 2의 배수 index 항목만 골라오기 (0, 2, 4)\n",
    "print(test_list2[::2])\n",
    "# test_list의 cash를 indexing해보자.\n",
    "print(test_list[4][2])"
   ]
  },
  {
   "cell_type": "markdown",
   "id": "1340f143",
   "metadata": {},
   "source": [
    "### 1-4. list 편집"
   ]
  },
  {
   "cell_type": "code",
   "execution_count": 17,
   "id": "18beb3f6",
   "metadata": {},
   "outputs": [
    {
     "name": "stdout",
     "output_type": "stream",
     "text": [
      "[1, 23, 24, 4, 235, 2351, 3]\n",
      "[1, 23, 24, 4, 235, 2351]\n",
      "2351\n",
      "[1, 4, 23, 24, 235]\n",
      "[235, 24, 23, 4, 1]\n"
     ]
    }
   ],
   "source": [
    "# 리스트에 항목을 추가\n",
    "test_list2.append(3)\n",
    "print(test_list2)\n",
    "# 리스트에서 특정 항목을 삭제\n",
    "test_list2.remove(3)\n",
    "print(test_list2)\n",
    "# 리스트에서 맨 마지막 element 꺼내오며 삭제하기\n",
    "print(test_list2.pop())\n",
    "# 리스트의 값 정렬 (숫자는 오름차순, 문자는 알파벳순, 한글은 가나다순으로)\n",
    "test_list2.sort()\n",
    "print(test_list2)\n",
    "# 역순으로 정렬\n",
    "test_list2.sort(reverse=True)\n",
    "print(test_list2)"
   ]
  },
  {
   "cell_type": "markdown",
   "id": "cbebb8fc",
   "metadata": {},
   "source": [
    "### 1-5. list 연산"
   ]
  },
  {
   "cell_type": "code",
   "execution_count": 20,
   "id": "d8932c42",
   "metadata": {},
   "outputs": [
    {
     "name": "stdout",
     "output_type": "stream",
     "text": [
      "[1, 2, 3, 4, 5]\n",
      "[1, 2, 1, 2, 1, 2]\n"
     ]
    }
   ],
   "source": [
    "# int형 데이터가 들어있는 num1, num2 list 생성\n",
    "num1 = [1, 2]\n",
    "num2 = [3, 4, 5]\n",
    "\n",
    "# sum of list\n",
    "print(num1 + num2)\n",
    "# multiple of list\n",
    "print(num1 * 3)"
   ]
  },
  {
   "cell_type": "markdown",
   "id": "1435d428",
   "metadata": {},
   "source": [
    "### 1-6. list 삭제"
   ]
  },
  {
   "cell_type": "code",
   "execution_count": 22,
   "id": "cb811ac1",
   "metadata": {},
   "outputs": [
    {
     "name": "stdout",
     "output_type": "stream",
     "text": [
      "[]\n"
     ]
    }
   ],
   "source": [
    "# clear 함수를 사용하여 list 안의 내용만 지우기\n",
    "num1.clear()\n",
    "print(num1)\n",
    "# list 변수를 완전히 삭제\n",
    "del num1"
   ]
  },
  {
   "cell_type": "markdown",
   "id": "cca964f1",
   "metadata": {},
   "source": [
    "## 2. dictionary(dict)\n",
    "    사전과 사전을 구성하는 항목을 떠올려봅시다.\n",
    "    단어 : 단어의 설명\n",
    "    dictionary는 이름 그대로 사전과 같은 형태의 데이터 구조입니다.\n",
    "    사전에서의 단어명은 key, 단어에 대한 설명은 value 값이라고 칭하여 쌍으로 저장 가능합니다.\n",
    "    { } 중괄호로 묶어 사용합니다. key : value\n",
    "    dictionary element의 구분은 list와 마찬가지로 쉼표로 구분합니다."
   ]
  },
  {
   "cell_type": "markdown",
   "id": "c2bdad2d",
   "metadata": {},
   "source": [
    "### 2-1. dictionary 생성"
   ]
  },
  {
   "cell_type": "code",
   "execution_count": 24,
   "id": "e349f5df",
   "metadata": {},
   "outputs": [],
   "source": [
    "# 빈 딕셔너리 생성\n",
    "wallet = {}"
   ]
  },
  {
   "cell_type": "code",
   "execution_count": 27,
   "id": "11f35357",
   "metadata": {},
   "outputs": [],
   "source": [
    "# 값을 추가하면서 딕셔너리 생성\n",
    "wallet = {\n",
    "    'card' : '국민카드',\n",
    "    'cash' : 75000,\n",
    "    'coin' : {'500원' : 1,\n",
    "             '100원' : 1},\n",
    "    'id' : ['주민등록증', '여권'],\n",
    "    'license' : '운전면허증'\n",
    "}"
   ]
  },
  {
   "cell_type": "markdown",
   "id": "dae28450",
   "metadata": {},
   "source": [
    "### 2-2. dictionary 정보 확인"
   ]
  },
  {
   "cell_type": "code",
   "execution_count": 31,
   "id": "8a5812de",
   "metadata": {},
   "outputs": [
    {
     "name": "stdout",
     "output_type": "stream",
     "text": [
      "5\n",
      "dict_keys(['card', 'cash', 'coin', 'id', 'license'])\n",
      "dict_values(['국민카드', 75000, {'500원': 1, '100원': 1}, ['주민등록증', '여권'], '운전면허증'])\n"
     ]
    }
   ],
   "source": [
    "# dict의 구성요소 개수 확인\n",
    "print(len(wallet))\n",
    "# dict의 key 값 확인\n",
    "print(wallet.keys())\n",
    "# dict의 value값 확인\n",
    "print(wallet.values())"
   ]
  },
  {
   "cell_type": "markdown",
   "id": "f59a6363",
   "metadata": {},
   "source": [
    "### 2-3. dictionary value 값에 접근하기"
   ]
  },
  {
   "cell_type": "code",
   "execution_count": 36,
   "id": "93f90d27",
   "metadata": {},
   "outputs": [
    {
     "name": "stdout",
     "output_type": "stream",
     "text": [
      "국민카드\n",
      "{'500원': 1, '100원': 1}\n",
      "국민카드\n",
      "{'500원': 1, '100원': 1}\n",
      "['주민등록증', '여권']\n"
     ]
    }
   ],
   "source": [
    "# get 함수를 사용하여 접근\n",
    "print(wallet.get('card'))\n",
    "print(wallet.get('coin'))\n",
    "# key 값을 이용해 바로 value에 접근\n",
    "print(wallet['card'])\n",
    "print(wallet['coin'])\n",
    "print(wallet['id'])"
   ]
  },
  {
   "cell_type": "markdown",
   "id": "60eba12f",
   "metadata": {},
   "source": [
    "### 2-4. dictionary 편집"
   ]
  },
  {
   "cell_type": "code",
   "execution_count": 40,
   "id": "f3fb2786",
   "metadata": {},
   "outputs": [],
   "source": [
    "# update 함수를 사용하여 element 추가\n",
    "wallet.update({'drink' : 'water'})"
   ]
  },
  {
   "cell_type": "code",
   "execution_count": 41,
   "id": "1b998c66",
   "metadata": {},
   "outputs": [
    {
     "name": "stdout",
     "output_type": "stream",
     "text": [
      "{'card': '국민카드', 'cash': 75000, 'coin': {'500원': 1, '100원': 1}, 'id': ['주민등록증', '여권'], 'license': '운전면허증', 'drink': 'water', 'point card': 3000}\n"
     ]
    }
   ],
   "source": [
    "# wallet dict에 point card key를 갖는 해피포인트 값을 저장\n",
    "wallet.update({'point card' : 3000})\n",
    "print(wallet)"
   ]
  },
  {
   "cell_type": "markdown",
   "id": "64be16f5",
   "metadata": {},
   "source": [
    "### 2-5. dict 삭제"
   ]
  },
  {
   "cell_type": "code",
   "execution_count": 44,
   "id": "91817863",
   "metadata": {},
   "outputs": [
    {
     "name": "stdout",
     "output_type": "stream",
     "text": [
      "{'card': '국민카드', 'cash': 75000, 'coin': {'500원': 1, '100원': 1}, 'id': ['주민등록증', '여권'], 'license': '운전면허증', 'point card': 3000}\n"
     ]
    }
   ],
   "source": [
    "# dict 항목 제거\n",
    "del wallet['drink']\n",
    "print(wallet)\n",
    "# dict 전체를 삭제\n",
    "del wallet"
   ]
  },
  {
   "cell_type": "markdown",
   "id": "c592d61e",
   "metadata": {},
   "source": [
    "## 3. 튜플(tuple)\n",
    "    데이터가 고정이 되어 변경이 불가능한 데이터 집합\n",
    "    자료구조로는 잘 사용하지 않는다. ()로 묶어 사용한다.\n",
    "    구분은 마찬가지로 ,콤마를 이용한다."
   ]
  },
  {
   "cell_type": "markdown",
   "id": "756a6e46",
   "metadata": {},
   "source": [
    "### 3-1. tuple 생성"
   ]
  },
  {
   "cell_type": "code",
   "execution_count": 46,
   "id": "de1bc897",
   "metadata": {},
   "outputs": [
    {
     "name": "stdout",
     "output_type": "stream",
     "text": [
      "(1, 2, 3, 4)\n"
     ]
    }
   ],
   "source": [
    "test_tuple = () # 의미가 모호해서? 잘 사용하지 않는다.\n",
    "test_tuple = tuple()\n",
    "test_tuple = 1, 2, 3, 4\n",
    "print(test_tuple)"
   ]
  },
  {
   "cell_type": "markdown",
   "id": "f433579f",
   "metadata": {},
   "source": [
    "### 3-2. tuple indexing"
   ]
  },
  {
   "cell_type": "code",
   "execution_count": 47,
   "id": "c79b4275",
   "metadata": {},
   "outputs": [
    {
     "data": {
      "text/plain": [
       "2"
      ]
     },
     "execution_count": 47,
     "metadata": {},
     "output_type": "execute_result"
    }
   ],
   "source": [
    "test_tuple[1]"
   ]
  },
  {
   "cell_type": "markdown",
   "id": "b1bc4240",
   "metadata": {},
   "source": [
    "### 3-3. tuple update 불가능"
   ]
  },
  {
   "cell_type": "code",
   "execution_count": null,
   "id": "b4ff4c53",
   "metadata": {},
   "outputs": [],
   "source": [
    "test_tuple"
   ]
  }
 ],
 "metadata": {
  "kernelspec": {
   "display_name": "Python 3",
   "language": "python",
   "name": "python3"
  },
  "language_info": {
   "codemirror_mode": {
    "name": "ipython",
    "version": 3
   },
   "file_extension": ".py",
   "mimetype": "text/x-python",
   "name": "python",
   "nbconvert_exporter": "python",
   "pygments_lexer": "ipython3",
   "version": "3.8.8"
  }
 },
 "nbformat": 4,
 "nbformat_minor": 5
}
