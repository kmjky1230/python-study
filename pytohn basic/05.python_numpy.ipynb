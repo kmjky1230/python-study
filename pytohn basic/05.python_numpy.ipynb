{
 "cells": [
  {
   "cell_type": "markdown",
   "id": "3e911631",
   "metadata": {},
   "source": [
    "# Numpy (Numeric python)\n",
    "    패키지 이름과 같이 mathematical한 python 활용을 위한 python package\n",
    "    선형대수학 구현과 과학적 computing 연산을 위한 함수를 제공합니다.\n",
    "    \n",
    "    (key)np array 다차원 배열을 사용하여 vector의 산술 연산이 가능합니다.\n",
    "    broadcasting을 활용하여 shape(형태 혹은 모양)이 다른 데이터의 연산이 가능합니다.\n",
    "    - 기존 언어에서는 제공 x\n",
    "    - 굉장히 powerful한 기능으로써 데이터 연산에 굉장히 효율이 좋다."
   ]
  },
  {
   "cell_type": "markdown",
   "id": "aa34178b",
   "metadata": {},
   "source": [
    "## 1. Numpy 설치와 import\n",
    "선행 학습을 통해 class와 함수에서 패키지와 클래스를 불러들여 사용할 수 있다고 배웠습니다.\n",
    "다만 직접 작성한 클래스가 아닐경우, 그리고 현재 컴퓨터에 사용해야 할 패키지가 없을경우 간단한 명령어로 설치가능.\n",
    "\n",
    "    conda, pip 명령어 : python 라이브러리 관리 프로그램으로 \n",
    "               오픈소스라이브러리를 간편하게 설치 할 수 있도록 하는 명령어\n",
    "\n",
    "    콘솔창에서 실행 시\n",
    "    pip install [패키지명]\n",
    "    conda install [패키지명]\n",
    "\n",
    "    주피터 노트북으로 실행 시\n",
    "    !pip install [패키지명]\n",
    "\n",
    "    아나콘다 환경으로 python 환경설정 시 기본적으로 Numpy 설치가 되어있음\n",
    "    -> 이미 설치되어있기 때문에 skip\n",
    "   "
   ]
  },
  {
   "cell_type": "code",
   "execution_count": 2,
   "id": "3f0f9671",
   "metadata": {},
   "outputs": [],
   "source": [
    "# numpy를 np라는 nickname으로 import해서 사용합니다.\n",
    "import numpy as np\n",
    "# 관례적으로 np라는 약자를 많이 사용한다고 한다.\n",
    "# python을 사용하는 대부분의 user들이 사용하고 있는 닉네임이니 되도록 지키자!"
   ]
  },
  {
   "cell_type": "markdown",
   "id": "84b11dc1",
   "metadata": {},
   "source": [
    "## 2. Numpy function\n",
    "    numpy는 computing 연산을 위한 다양한 연산 함수를 제공합니다.\n",
    "    자주 사용하는 연산 함수 위주로 살펴보겠습니다.\n",
    "    \n",
    "    연산 함수의 기본 구조\n",
    "    np.sum(연산 대상, axis=연산방향)"
   ]
  },
  {
   "cell_type": "code",
   "execution_count": 3,
   "id": "8a3917e9",
   "metadata": {},
   "outputs": [],
   "source": [
    "# 함수 예제를 위한 데이터셋\n",
    "test_list = [1, 2, 3, 4]\n",
    "\n",
    "test_list2 = [[1, 3], [5, 7]]\n",
    "\n",
    "test_flist = [1, 3.14, -4.5]\n",
    "\n",
    "test_list_2nd = [[1, 2, 3],\n",
    "              [4, 5, 6],\n",
    "              [7, 8, 9]]\n",
    "\n",
    "test_list_3rd = [[[1, 2, 3, 4],\n",
    "              [5, 6, 7, 8]],\n",
    "              \n",
    "              [[1, 2, 3, 4],\n",
    "               [5, 6, 7, 8]],\n",
    "\n",
    "              [[1, 2, 3, 4],\n",
    "               [5, 6, 7, 8]]]\n",
    "test_exp = [0, 1, 10]\n",
    "\n",
    "test_nan = [0, np.nan, np.inf]"
   ]
  },
  {
   "cell_type": "markdown",
   "id": "bc0b94c1",
   "metadata": {},
   "source": [
    "### 수리연산\n",
    "    - prod()\n",
    "    - dot()\n",
    "    - sum()\n",
    "    - cumprod()\n",
    "    - cumsum()\n",
    "    - abs()\n",
    "    - sqaure()\n",
    "    - sqrt()\n",
    "    - exp()\n",
    "    - log()\n",
    "### 통계연산\n",
    "    - mean()\n",
    "    - std()\n",
    "    - var()\n",
    "    - max()\n",
    "    - min()\n",
    "    - argmax()\n",
    "    - argmin()\n",
    "### 로직연산\n",
    "    - arange()\n",
    "    - isnan()\n",
    "    - isinf()\n",
    "    - unique()\n",
    "### 기하\n",
    "    - shape()\n",
    "    - reshape()\n",
    "    - ndim()\n",
    "    - transpose()\n",
    "    \n",
    "각종 연산 참고 : https://numpy.org/doc/stable/reference/routines.math.html"
   ]
  },
  {
   "cell_type": "markdown",
   "id": "3d30cce9",
   "metadata": {},
   "source": [
    "## 3. Numpy array (배열, 행렬)\n",
    "    - numpy 연산의 기본이 되는 데이터 구조입니다.\n",
    "    - list보다 간편하게 생성 가능하며 연산이 빠르다는 장점이 있습니다.\n",
    "    - 앞서 언급한 broad casting 연산을 지원합니다.\n",
    "    - 같은 type의 data만 저장할 수 있습니다.\n",
    "    \n",
    "    array 또한 numpy의 기본 함수로 생성 가능합니다.\n",
    "    array 함수의 기본 호출 구조는 아래와 같습니다.\n",
    "    \n",
    "    ex) np.array(배열 변환 대상 data)\n",
    "    ex) np.arange(start, end, step_forward) : 기존 range와 같은 argument 형태를 입력 받는다"
   ]
  },
  {
   "cell_type": "code",
   "execution_count": 5,
   "id": "8eaec5be",
   "metadata": {},
   "outputs": [
    {
     "name": "stdout",
     "output_type": "stream",
     "text": [
      "[1 2 3 4]\n",
      "[[1 3]\n",
      " [5 7]]\n",
      "[ 1.    3.14 -4.5 ]\n",
      "[[1 2 3]\n",
      " [4 5 6]\n",
      " [7 8 9]]\n",
      "[[[1 2 3 4]\n",
      "  [5 6 7 8]]\n",
      "\n",
      " [[1 2 3 4]\n",
      "  [5 6 7 8]]\n",
      "\n",
      " [[1 2 3 4]\n",
      "  [5 6 7 8]]]\n"
     ]
    }
   ],
   "source": [
    "# 위의 개념을 이용해 앞서 선언한 list들을 array로 변환\n",
    "test_array = np.array(test_list)\n",
    "test_array2 = np.array(test_list2)\n",
    "test_farray = np.array(test_flist)\n",
    "\n",
    "test_array_2nd = np.array(test_list_2nd)\n",
    "test_array_3rd = np.array(test_list_3rd)\n",
    "\n",
    "print(test_array)\n",
    "print(test_array2)\n",
    "print(test_farray)\n",
    "print(test_array_2nd)\n",
    "print(test_array_3rd)"
   ]
  },
  {
   "cell_type": "code",
   "execution_count": 6,
   "id": "0ba005a1",
   "metadata": {},
   "outputs": [
    {
     "name": "stdout",
     "output_type": "stream",
     "text": [
      "[0 1 2 3 4 5 6 7 8 9]\n"
     ]
    }
   ],
   "source": [
    "# np.aramge 함수로 생성\n",
    "range_array = np.arange(10)\n",
    "print(range_array)"
   ]
  },
  {
   "cell_type": "markdown",
   "id": "b40ce7f0",
   "metadata": {},
   "source": [
    "### 3-1. 특수한 형태의 array를 함수를 이용해 생성\n",
    "    함수 호출의 기본 구조는 아래와 같습니다. 각 함수들은 이름에 걸맞는 array들을 생성합니다.\n",
    "    \n",
    "        ex) np.ones([자료구조 shape])\n",
    "        자료구조 shape은 정수, []리스트, ()튜플로만 입력이 가능합니다.\n",
    "        \n",
    "        함수 list\n",
    "        - ones\n",
    "        - zeros\n",
    "        - empty\n",
    "        - eye"
   ]
  },
  {
   "cell_type": "markdown",
   "id": "113b8f30",
   "metadata": {},
   "source": [
    "### 3-2. array 속성 및 내장 함수\n",
    "np.array에는 굉장히 유용한 수리, 통계 연산을 위한 함수가 갖추어져 있습니다. 다차원 기하학적 연산을 위한 함수도 함께 살펴보겠습니다."
   ]
  },
  {
   "cell_type": "code",
   "execution_count": null,
   "id": "8a74c8ec",
   "metadata": {},
   "outputs": [],
   "source": []
  }
 ],
 "metadata": {
  "kernelspec": {
   "display_name": "Python 3",
   "language": "python",
   "name": "python3"
  },
  "language_info": {
   "codemirror_mode": {
    "name": "ipython",
    "version": 3
   },
   "file_extension": ".py",
   "mimetype": "text/x-python",
   "name": "python",
   "nbconvert_exporter": "python",
   "pygments_lexer": "ipython3",
   "version": "3.8.8"
  }
 },
 "nbformat": 4,
 "nbformat_minor": 5
}
